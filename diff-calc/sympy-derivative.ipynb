{
 "cells": [
  {
   "cell_type": "code",
   "id": "initial_id",
   "metadata": {
    "collapsed": true,
    "ExecuteTime": {
     "end_time": "2024-11-17T09:57:04.573098Z",
     "start_time": "2024-11-17T09:57:04.555552Z"
    }
   },
   "source": [
    "# import sympy\n",
    "from sympy import *"
   ],
   "outputs": [],
   "execution_count": 22
  },
  {
   "metadata": {
    "ExecuteTime": {
     "end_time": "2024-11-17T09:57:04.744970Z",
     "start_time": "2024-11-17T09:57:04.721618Z"
    }
   },
   "cell_type": "code",
   "source": [
    "x, y = symbols('x y') # Here we are defining our variables\n",
    "function = 2*y*x**3 + 6 * x*y**3 + y**3 # This is the function we're going to differentiate\n",
    "print(\"Expression : {}\".format(function)) # Printing the function for reference\n"
   ],
   "id": "4d256e25fc4d09aa",
   "outputs": [
    {
     "name": "stdout",
     "output_type": "stream",
     "text": [
      "Expression : 2*x**3*y + 6*x*y**3 + y**3\n"
     ]
    }
   ],
   "execution_count": 23
  },
  {
   "metadata": {
    "ExecuteTime": {
     "end_time": "2024-11-17T09:57:04.910374Z",
     "start_time": "2024-11-17T09:57:04.892298Z"
    }
   },
   "cell_type": "code",
   "source": [
    "# Use sympy.Derivative() method to create an unevaluated derivative \n",
    "diff_x = Derivative(function, x) # name variable, call method, indicate variable differentiating\n",
    "diff_y = Derivative(function, y) # Same for y"
   ],
   "id": "2789627ec06bbc3c",
   "outputs": [],
   "execution_count": 24
  },
  {
   "metadata": {
    "ExecuteTime": {
     "end_time": "2024-11-17T09:57:05.092593Z",
     "start_time": "2024-11-17T09:57:05.082995Z"
    }
   },
   "cell_type": "code",
   "source": [
    "# Combined value\n",
    "total_derivative = diff_x + diff_y"
   ],
   "id": "893ef8d13fc2b5b6",
   "outputs": [],
   "execution_count": 25
  },
  {
   "metadata": {
    "ExecuteTime": {
     "end_time": "2024-11-17T09:57:05.138452Z",
     "start_time": "2024-11-17T09:57:05.119466Z"
    }
   },
   "cell_type": "code",
   "source": [
    "# Format and print for x\n",
    "\n",
    "print(\"For x\\n\")\n",
    "print(\"Derivative of expression with respect to x : {}\".format(diff_x))\n",
    "print(\"Value of the derivative with y constant: {}\".format(diff_y.doit()))"
   ],
   "id": "910814ed4ff5f787",
   "outputs": [
    {
     "name": "stdout",
     "output_type": "stream",
     "text": [
      "For x\n",
      "\n",
      "Derivative of expression with respect to x : Derivative(2*x**3*y + 6*x*y**3 + y**3, x)\n",
      "Value of the derivative with y constant: 2*x**3 + 18*x*y**2 + 3*y**2\n"
     ]
    }
   ],
   "execution_count": 26
  },
  {
   "metadata": {
    "ExecuteTime": {
     "end_time": "2024-11-17T09:57:05.223203Z",
     "start_time": "2024-11-17T09:57:05.204170Z"
    }
   },
   "cell_type": "code",
   "source": [
    "# Format and print for y\n",
    "\n",
    "print(\"For y\\n\")\n",
    "print(\"Derivative of expression with respect to y : {}\".format(diff_y))\n",
    "print(\"Value of the derivative with x constant: {}\".format(diff_x.doit()))"
   ],
   "id": "71ef68fed96b4abd",
   "outputs": [
    {
     "name": "stdout",
     "output_type": "stream",
     "text": [
      "For y\n",
      "\n",
      "Derivative of expression with respect to y : Derivative(2*x**3*y + 6*x*y**3 + y**3, y)\n",
      "Value of the derivative with x constant: 6*x**2*y + 6*y**3\n"
     ]
    }
   ],
   "execution_count": 27
  },
  {
   "metadata": {
    "ExecuteTime": {
     "end_time": "2024-11-17T09:57:05.301167Z",
     "start_time": "2024-11-17T09:57:05.284439Z"
    }
   },
   "cell_type": "code",
   "source": [
    "# Format and print for Total Derivative\n",
    "\n",
    "print(\"Total Derivative\\n\")\n",
    "print(\"Value of the partial derivative: {}\".format(total_derivative))\n",
    "print(\"Value of the partial derivative: {}\".format(total_derivative.doit()))\n"
   ],
   "id": "cbcff8ed0c9d1bcb",
   "outputs": [
    {
     "name": "stdout",
     "output_type": "stream",
     "text": [
      "Total Derivative\n",
      "\n",
      "Value of the partial derivative: Derivative(2*x**3*y + 6*x*y**3 + y**3, x) + Derivative(2*x**3*y + 6*x*y**3 + y**3, y)\n",
      "Value of the partial derivative: 2*x**3 + 6*x**2*y + 18*x*y**2 + 6*y**3 + 3*y**2\n"
     ]
    }
   ],
   "execution_count": 28
  },
  {
   "metadata": {
    "ExecuteTime": {
     "end_time": "2024-11-17T09:57:05.356445Z",
     "start_time": "2024-11-17T09:57:05.349175Z"
    }
   },
   "cell_type": "code",
   "source": [
    "Derivative_of_quad = Derivative(x**2)\n",
    "print(Derivative_of_quad)\n",
    "print(Derivative_of_quad.doit())"
   ],
   "id": "1bd446a8f99738d6",
   "outputs": [
    {
     "name": "stdout",
     "output_type": "stream",
     "text": [
      "Derivative(x**2, x)\n",
      "2*x\n"
     ]
    }
   ],
   "execution_count": 29
  },
  {
   "metadata": {
    "ExecuteTime": {
     "end_time": "2024-11-17T09:57:05.399625Z",
     "start_time": "2024-11-17T09:57:05.395511Z"
    }
   },
   "cell_type": "code",
   "source": "",
   "id": "6cb434a717af0e22",
   "outputs": [],
   "execution_count": null
  }
 ],
 "metadata": {
  "kernelspec": {
   "display_name": "Python 3",
   "language": "python",
   "name": "python3"
  },
  "language_info": {
   "codemirror_mode": {
    "name": "ipython",
    "version": 2
   },
   "file_extension": ".py",
   "mimetype": "text/x-python",
   "name": "python",
   "nbconvert_exporter": "python",
   "pygments_lexer": "ipython2",
   "version": "2.7.6"
  }
 },
 "nbformat": 4,
 "nbformat_minor": 5
}
