{
 "cells": [
  {
   "cell_type": "code",
   "id": "initial_id",
   "metadata": {
    "collapsed": true,
    "ExecuteTime": {
     "end_time": "2025-01-13T05:38:31.715267Z",
     "start_time": "2025-01-13T05:38:31.612227Z"
    }
   },
   "source": "import numpy as np",
   "outputs": [],
   "execution_count": 1
  },
  {
   "metadata": {
    "ExecuteTime": {
     "end_time": "2025-01-13T05:41:35.950372Z",
     "start_time": "2025-01-13T05:41:35.944079Z"
    }
   },
   "cell_type": "code",
   "source": [
    "nray = np.random.randn(5,5)\n",
    "print(nray.shape)\n",
    "print(nray)"
   ],
   "id": "776d01dee7f643bd",
   "outputs": [
    {
     "name": "stdout",
     "output_type": "stream",
     "text": [
      "(5, 5)\n",
      "[[-1.96775065 -0.58697188  0.93751183  0.22540252  0.58070976]\n",
      " [-0.64632004 -2.31309508  0.03217225  1.30304711 -0.66432457]\n",
      " [-1.00493975  0.38100778  0.18912341  0.43066831 -0.48034508]\n",
      " [-0.27770751 -0.57200462  0.14009296 -0.10623619  0.21265623]\n",
      " [-0.81917195  0.11629619  1.18048351  0.61950857 -0.87007051]]\n"
     ]
    }
   ],
   "execution_count": 6
  },
  {
   "metadata": {
    "ExecuteTime": {
     "end_time": "2025-01-13T05:41:57.040192Z",
     "start_time": "2025-01-13T05:41:57.034741Z"
    }
   },
   "cell_type": "code",
   "source": [
    "ravel = nray.ravel()\n",
    "print(ravel.shape)\n",
    "print(ravel)"
   ],
   "id": "d4b38febd4440b3d",
   "outputs": [
    {
     "name": "stdout",
     "output_type": "stream",
     "text": [
      "(25,)\n",
      "[-1.96775065 -0.58697188  0.93751183  0.22540252  0.58070976 -0.64632004\n",
      " -2.31309508  0.03217225  1.30304711 -0.66432457 -1.00493975  0.38100778\n",
      "  0.18912341  0.43066831 -0.48034508 -0.27770751 -0.57200462  0.14009296\n",
      " -0.10623619  0.21265623 -0.81917195  0.11629619  1.18048351  0.61950857\n",
      " -0.87007051]\n"
     ]
    }
   ],
   "execution_count": 7
  },
  {
   "metadata": {
    "ExecuteTime": {
     "end_time": "2025-01-13T05:44:13.903018Z",
     "start_time": "2025-01-13T05:44:13.898271Z"
    }
   },
   "cell_type": "code",
   "source": [
    "expanded = np.expand_dims(nray, 2)\n",
    "print(expanded.shape)"
   ],
   "id": "7972d38bbc477c6b",
   "outputs": [
    {
     "name": "stdout",
     "output_type": "stream",
     "text": [
      "(5, 5, 1)\n"
     ]
    }
   ],
   "execution_count": 11
  },
  {
   "metadata": {
    "ExecuteTime": {
     "end_time": "2025-01-13T05:45:23.845055Z",
     "start_time": "2025-01-13T05:45:23.841233Z"
    }
   },
   "cell_type": "code",
   "source": [
    "transposed = expanded.transpose()\n",
    "print(transposed.shape)"
   ],
   "id": "9fd3fab03b0501d8",
   "outputs": [
    {
     "name": "stdout",
     "output_type": "stream",
     "text": [
      "(1, 5, 5)\n"
     ]
    }
   ],
   "execution_count": 12
  },
  {
   "metadata": {
    "ExecuteTime": {
     "end_time": "2025-01-13T05:56:21.810286Z",
     "start_time": "2025-01-13T05:56:21.804920Z"
    }
   },
   "cell_type": "code",
   "source": [
    "joined = np.concatenate([nray, nray], axis=0)\n",
    "print(joined.shape)"
   ],
   "id": "3727e84b651f76cb",
   "outputs": [
    {
     "name": "stdout",
     "output_type": "stream",
     "text": [
      "(10, 5)\n"
     ]
    }
   ],
   "execution_count": 13
  },
  {
   "metadata": {
    "ExecuteTime": {
     "end_time": "2025-01-13T05:56:59.505404Z",
     "start_time": "2025-01-13T05:56:59.500706Z"
    }
   },
   "cell_type": "code",
   "source": [
    "deep_join = np.dstack([nray, nray])\n",
    "print(deep_join.shape)"
   ],
   "id": "da6d676055dea975",
   "outputs": [
    {
     "name": "stdout",
     "output_type": "stream",
     "text": [
      "(5, 5, 2)\n"
     ]
    }
   ],
   "execution_count": 14
  },
  {
   "metadata": {
    "ExecuteTime": {
     "end_time": "2025-01-13T05:57:52.728141Z",
     "start_time": "2025-01-13T05:57:52.719128Z"
    }
   },
   "cell_type": "code",
   "source": [
    "summed = np.logical_and(nray, nray).sum()\n",
    "print(summed)"
   ],
   "id": "d717bc4aa162f63",
   "outputs": [
    {
     "name": "stdout",
     "output_type": "stream",
     "text": [
      "25\n"
     ]
    }
   ],
   "execution_count": 15
  },
  {
   "metadata": {
    "ExecuteTime": {
     "end_time": "2025-01-13T06:00:15.807821Z",
     "start_time": "2025-01-13T06:00:15.804047Z"
    }
   },
   "cell_type": "code",
   "source": [
    "larger = np.resize(nray, [10, 10])\n",
    "print(larger.shape)"
   ],
   "id": "d88f38f14bce4da1",
   "outputs": [
    {
     "name": "stdout",
     "output_type": "stream",
     "text": [
      "(10, 10)\n"
     ]
    }
   ],
   "execution_count": 18
  },
  {
   "metadata": {
    "ExecuteTime": {
     "end_time": "2025-01-13T06:02:20.492156Z",
     "start_time": "2025-01-13T06:02:20.487637Z"
    }
   },
   "cell_type": "code",
   "source": [
    "inserted = np.insert(nray, 0, 12)\n",
    "print(inserted.shape)\n",
    "print(inserted)"
   ],
   "id": "bf1230b4cdfeb17c",
   "outputs": [
    {
     "name": "stdout",
     "output_type": "stream",
     "text": [
      "(26,)\n",
      "[12.         -1.96775065 -0.58697188  0.93751183  0.22540252  0.58070976\n",
      " -0.64632004 -2.31309508  0.03217225  1.30304711 -0.66432457 -1.00493975\n",
      "  0.38100778  0.18912341  0.43066831 -0.48034508 -0.27770751 -0.57200462\n",
      "  0.14009296 -0.10623619  0.21265623 -0.81917195  0.11629619  1.18048351\n",
      "  0.61950857 -0.87007051]\n"
     ]
    }
   ],
   "execution_count": 20
  },
  {
   "metadata": {},
   "cell_type": "code",
   "outputs": [],
   "execution_count": null,
   "source": "",
   "id": "7bd42ef9f2fa1180"
  }
 ],
 "metadata": {
  "kernelspec": {
   "display_name": "Python 3",
   "language": "python",
   "name": "python3"
  },
  "language_info": {
   "codemirror_mode": {
    "name": "ipython",
    "version": 2
   },
   "file_extension": ".py",
   "mimetype": "text/x-python",
   "name": "python",
   "nbconvert_exporter": "python",
   "pygments_lexer": "ipython2",
   "version": "2.7.6"
  }
 },
 "nbformat": 4,
 "nbformat_minor": 5
}
