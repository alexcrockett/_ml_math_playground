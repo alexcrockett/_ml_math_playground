{
 "cells": [
  {
   "cell_type": "code",
   "id": "initial_id",
   "metadata": {
    "collapsed": true,
    "ExecuteTime": {
     "end_time": "2024-11-22T06:49:27.981600Z",
     "start_time": "2024-11-22T06:49:27.598903Z"
    }
   },
   "source": "import numpy as np",
   "outputs": [],
   "execution_count": 1
  },
  {
   "metadata": {
    "ExecuteTime": {
     "end_time": "2024-11-22T06:52:18.451003Z",
     "start_time": "2024-11-22T06:52:18.443991Z"
    }
   },
   "cell_type": "code",
   "source": [
    "elements = np.arange(100)\n",
    "array = elements.reshape(10,10)\n",
    "print(array)"
   ],
   "id": "8292776975e8580c",
   "outputs": [
    {
     "name": "stdout",
     "output_type": "stream",
     "text": [
      "[[ 0  1  2  3  4  5  6  7  8  9]\n",
      " [10 11 12 13 14 15 16 17 18 19]\n",
      " [20 21 22 23 24 25 26 27 28 29]\n",
      " [30 31 32 33 34 35 36 37 38 39]\n",
      " [40 41 42 43 44 45 46 47 48 49]\n",
      " [50 51 52 53 54 55 56 57 58 59]\n",
      " [60 61 62 63 64 65 66 67 68 69]\n",
      " [70 71 72 73 74 75 76 77 78 79]\n",
      " [80 81 82 83 84 85 86 87 88 89]\n",
      " [90 91 92 93 94 95 96 97 98 99]]\n"
     ]
    }
   ],
   "execution_count": 9
  },
  {
   "metadata": {
    "ExecuteTime": {
     "end_time": "2024-11-22T06:53:20.091Z",
     "start_time": "2024-11-22T06:53:20.068348Z"
    }
   },
   "cell_type": "code",
   "source": [
    "# Index the third column\n",
    "array[:,2]"
   ],
   "id": "c7c63f45acc598b4",
   "outputs": [
    {
     "data": {
      "text/plain": [
       "array([ 2, 12, 22, 32, 42, 52, 62, 72, 82, 92])"
      ]
     },
     "execution_count": 10,
     "metadata": {},
     "output_type": "execute_result"
    }
   ],
   "execution_count": 10
  },
  {
   "metadata": {
    "ExecuteTime": {
     "end_time": "2024-11-22T06:55:16.531331Z",
     "start_time": "2024-11-22T06:55:16.502318Z"
    }
   },
   "cell_type": "code",
   "source": [
    "# Index the fourth row\n",
    "array[3,:]"
   ],
   "id": "6bf5215cbcdd9c91",
   "outputs": [
    {
     "data": {
      "text/plain": [
       "array([30, 31, 32, 33, 34, 35, 36, 37, 38, 39])"
      ]
     },
     "execution_count": 11,
     "metadata": {},
     "output_type": "execute_result"
    }
   ],
   "execution_count": 11
  },
  {
   "metadata": {
    "ExecuteTime": {
     "end_time": "2024-11-22T06:56:29.938377Z",
     "start_time": "2024-11-22T06:56:29.913068Z"
    }
   },
   "cell_type": "code",
   "source": [
    "# Indicate a block of the array we want to slice\n",
    "array[:2, :2]"
   ],
   "id": "7455ee337ea548e1",
   "outputs": [
    {
     "data": {
      "text/plain": [
       "array([[ 0,  1],\n",
       "       [10, 11]])"
      ]
     },
     "execution_count": 12,
     "metadata": {},
     "output_type": "execute_result"
    }
   ],
   "execution_count": 12
  },
  {
   "metadata": {
    "ExecuteTime": {
     "end_time": "2024-11-22T06:58:49.238581Z",
     "start_time": "2024-11-22T06:58:49.228617Z"
    }
   },
   "cell_type": "code",
   "source": [
    "# A central-ish region of the array\n",
    "array[2:8, 2:5]"
   ],
   "id": "8726b822d91bd835",
   "outputs": [
    {
     "data": {
      "text/plain": [
       "array([[22, 23, 24],\n",
       "       [32, 33, 34],\n",
       "       [42, 43, 44],\n",
       "       [52, 53, 54],\n",
       "       [62, 63, 64],\n",
       "       [72, 73, 74]])"
      ]
     },
     "execution_count": 17,
     "metadata": {},
     "output_type": "execute_result"
    }
   ],
   "execution_count": 17
  },
  {
   "metadata": {
    "ExecuteTime": {
     "end_time": "2024-11-22T06:59:50.094178Z",
     "start_time": "2024-11-22T06:59:50.080930Z"
    }
   },
   "cell_type": "code",
   "source": [
    "# A single value\n",
    "array[2:3, 6:7]"
   ],
   "id": "f8343864a70ebad2",
   "outputs": [
    {
     "data": {
      "text/plain": [
       "array([[26]])"
      ]
     },
     "execution_count": 19,
     "metadata": {},
     "output_type": "execute_result"
    }
   ],
   "execution_count": 19
  },
  {
   "metadata": {
    "ExecuteTime": {
     "end_time": "2024-11-22T07:01:07.394826Z",
     "start_time": "2024-11-22T07:01:07.370829Z"
    }
   },
   "cell_type": "code",
   "source": [
    "# Every fourth element\n",
    "array[::4, ::4]"
   ],
   "id": "88dfbaf0322bab38",
   "outputs": [
    {
     "data": {
      "text/plain": [
       "array([[ 0,  4,  8],\n",
       "       [40, 44, 48],\n",
       "       [80, 84, 88]])"
      ]
     },
     "execution_count": 20,
     "metadata": {},
     "output_type": "execute_result"
    }
   ],
   "execution_count": 20
  },
  {
   "metadata": {},
   "cell_type": "code",
   "outputs": [],
   "execution_count": null,
   "source": "",
   "id": "530141c59baac143"
  }
 ],
 "metadata": {
  "kernelspec": {
   "display_name": "Python 3",
   "language": "python",
   "name": "python3"
  },
  "language_info": {
   "codemirror_mode": {
    "name": "ipython",
    "version": 2
   },
   "file_extension": ".py",
   "mimetype": "text/x-python",
   "name": "python",
   "nbconvert_exporter": "python",
   "pygments_lexer": "ipython2",
   "version": "2.7.6"
  }
 },
 "nbformat": 4,
 "nbformat_minor": 5
}
