{
 "cells": [
  {
   "cell_type": "code",
   "id": "initial_id",
   "metadata": {
    "collapsed": true,
    "ExecuteTime": {
     "end_time": "2024-11-28T08:06:49.713780Z",
     "start_time": "2024-11-28T08:06:49.702551Z"
    }
   },
   "source": [
    "# Let's build some arrays to reshape and resize\n",
    "\n",
    "# Import numpy\n",
    "import numpy as np\n",
    "\n",
    "# Three arrays with 10 components \n",
    "vector_1 = np.linspace(0, 20, 10)  # An array of 10 components, defined linearly from 0 to 20\n",
    "vector_2 = np.arange(1, 11, 1)  # An array of 10 components, arranged from 1 to 10 \n",
    "vector_3 = np.random.random(10)  # 10 random floating point numbers\n",
    "\n",
    "# Check our work\n",
    "print(vector_1)\n",
    "print(vector_2)\n",
    "print(vector_3)"
   ],
   "outputs": [
    {
     "name": "stdout",
     "output_type": "stream",
     "text": [
      "[ 0.          2.22222222  4.44444444  6.66666667  8.88888889 11.11111111\n",
      " 13.33333333 15.55555556 17.77777778 20.        ]\n",
      "[ 1  2  3  4  5  6  7  8  9 10]\n",
      "[0.64124603 0.77672662 0.91199355 0.99507037 0.56697079 0.21823642\n",
      " 0.16244722 0.00858628 0.75662858 0.05520535]\n"
     ]
    }
   ],
   "execution_count": 105
  },
  {
   "metadata": {
    "ExecuteTime": {
     "end_time": "2024-11-28T08:06:49.741685Z",
     "start_time": "2024-11-28T08:06:49.735793Z"
    }
   },
   "cell_type": "code",
   "source": [
    "# Now we'll create arrays with more than one dimension using .reshape()\n",
    "array_1 = np.random.random(10).reshape(5, 2)  # A random array with 5 rows and 2 columns\n",
    "array_2 = vector_1.reshape(5, 2)  # An array with shape (5, 2) formed from the first vector above\n",
    "array_3 = vector_2.reshape(5, 2)  # an array with shape (5, 2) formed from the second vector above\n",
    "\n",
    "# Check our work\n",
    "print(array_1)\n",
    "print(\"----------\\n\")\n",
    "print(array_2)\n",
    "print(\"----------\\n\")\n",
    "print(array_3)"
   ],
   "id": "f6d950df3768711d",
   "outputs": [
    {
     "name": "stdout",
     "output_type": "stream",
     "text": [
      "[[0.90284068 0.01124383]\n",
      " [0.62261175 0.92549201]\n",
      " [0.02296227 0.96237681]\n",
      " [0.18055486 0.73092842]\n",
      " [0.70686273 0.73650059]]\n",
      "----------\n",
      "\n",
      "[[ 0.          2.22222222]\n",
      " [ 4.44444444  6.66666667]\n",
      " [ 8.88888889 11.11111111]\n",
      " [13.33333333 15.55555556]\n",
      " [17.77777778 20.        ]]\n",
      "----------\n",
      "\n",
      "[[ 1  2]\n",
      " [ 3  4]\n",
      " [ 5  6]\n",
      " [ 7  8]\n",
      " [ 9 10]]\n"
     ]
    }
   ],
   "execution_count": 106
  },
  {
   "metadata": {
    "ExecuteTime": {
     "end_time": "2024-11-28T08:06:49.784771Z",
     "start_time": "2024-11-28T08:06:49.777420Z"
    }
   },
   "cell_type": "code",
   "source": [
    "# Now we'll convert them back with .flatten()\n",
    "flat_1 = array_1.flatten()  # Our first array of (5, 2) flatted back to a vector\n",
    "flat_2 = array_2.flatten()  # Our second array of (5, 2) flatted back to a vector\n",
    "flat_3 = array_3.flatten()  # Our third array of (5, 2) flatted back to a vector\n",
    "\n",
    "# Check our work\n",
    "print(flat_1)\n",
    "print(\"----------\\n\")\n",
    "print(flat_2)\n",
    "print(\"----------\\n\")\n",
    "print(flat_3)"
   ],
   "id": "180170282a01c890",
   "outputs": [
    {
     "name": "stdout",
     "output_type": "stream",
     "text": [
      "[0.90284068 0.01124383 0.62261175 0.92549201 0.02296227 0.96237681\n",
      " 0.18055486 0.73092842 0.70686273 0.73650059]\n",
      "----------\n",
      "\n",
      "[ 0.          2.22222222  4.44444444  6.66666667  8.88888889 11.11111111\n",
      " 13.33333333 15.55555556 17.77777778 20.        ]\n",
      "----------\n",
      "\n",
      "[ 1  2  3  4  5  6  7  8  9 10]\n"
     ]
    }
   ],
   "execution_count": 107
  },
  {
   "metadata": {
    "ExecuteTime": {
     "end_time": "2024-11-28T08:06:49.817313Z",
     "start_time": "2024-11-28T08:06:49.811542Z"
    }
   },
   "cell_type": "code",
   "source": [
    "reshaped_for_squeeze = array_1.reshape(10, 1)  # Reshaping an array so we have a dimension to squeee out\n",
    "squeezed_1 = np.squeeze(reshaped_for_squeeze)  # The dimension squeezed out\n",
    "\n",
    "# Check our work\n",
    "print(f\"Reshaped for squeeing: \\n{reshaped_for_squeeze.shape}\")\n",
    "print(\"----------\\n\")\n",
    "print(f\"The shape after squeezing: \\n{squeezed_1.shape}\")\n",
    "print(\"----------\\n\")\n",
    "print(f\"The reshaped array: \\n{reshaped_for_squeeze}\")\n",
    "print(\"----------\\n\")\n",
    "print(f\"The squeezed array: \\n{squeezed_1}\")"
   ],
   "id": "65eb33a85b587d3e",
   "outputs": [
    {
     "name": "stdout",
     "output_type": "stream",
     "text": [
      "Reshaped for squeeing: \n",
      "(10, 1)\n",
      "----------\n",
      "\n",
      "The shape after squeezing: \n",
      "(10,)\n",
      "----------\n",
      "\n",
      "The reshaped array: \n",
      "[[0.90284068]\n",
      " [0.01124383]\n",
      " [0.62261175]\n",
      " [0.92549201]\n",
      " [0.02296227]\n",
      " [0.96237681]\n",
      " [0.18055486]\n",
      " [0.73092842]\n",
      " [0.70686273]\n",
      " [0.73650059]]\n",
      "----------\n",
      "\n",
      "The squeezed array: \n",
      "[0.90284068 0.01124383 0.62261175 0.92549201 0.02296227 0.96237681\n",
      " 0.18055486 0.73092842 0.70686273 0.73650059]\n"
     ]
    }
   ],
   "execution_count": 108
  },
  {
   "metadata": {
    "ExecuteTime": {
     "end_time": "2024-11-28T08:06:49.858251Z",
     "start_time": "2024-11-28T08:06:49.852975Z"
    }
   },
   "cell_type": "code",
   "source": [
    "# Here we're going to add an axis to the arrays we squeezed\n",
    "\n",
    "add_dims_1 = squeezed_1[:, np.newaxis]  # Add a columns axis\n",
    "print(add_dims_1.shape)\n",
    "print(\"----------\\n\")\n",
    "\n",
    "add_dims_1 = reshaped_for_squeeze[np.newaxis,:]  # Add a rows axis\n",
    "print(add_dims_1.shape)\n",
    "print(\"----------\\n\")\n",
    "\n",
    "print(add_dims_1)"
   ],
   "id": "fefe93e265004760",
   "outputs": [
    {
     "name": "stdout",
     "output_type": "stream",
     "text": [
      "(10, 1)\n",
      "----------\n",
      "\n",
      "(1, 10, 1)\n",
      "----------\n",
      "\n",
      "[[[0.90284068]\n",
      "  [0.01124383]\n",
      "  [0.62261175]\n",
      "  [0.92549201]\n",
      "  [0.02296227]\n",
      "  [0.96237681]\n",
      "  [0.18055486]\n",
      "  [0.73092842]\n",
      "  [0.70686273]\n",
      "  [0.73650059]]]\n"
     ]
    }
   ],
   "execution_count": 109
  },
  {
   "metadata": {
    "ExecuteTime": {
     "end_time": "2024-11-28T08:06:49.976639Z",
     "start_time": "2024-11-28T08:06:49.971210Z"
    }
   },
   "cell_type": "code",
   "source": [
    "# Now we're going to flatten out the array and transpose it into a row vector\n",
    "\n",
    "flat = add_dims_1.flatten()  # Flatten the array\n",
    "transpose_dims = flat.transpose()  # Transpose the array\n",
    "\n",
    "# Check our work\n",
    "print(transpose_dims)\n",
    "print(\"----------\\n\")\n",
    "print(transpose_dims.shape)"
   ],
   "id": "c11bcbf151231433",
   "outputs": [
    {
     "name": "stdout",
     "output_type": "stream",
     "text": [
      "[0.90284068 0.01124383 0.62261175 0.92549201 0.02296227 0.96237681\n",
      " 0.18055486 0.73092842 0.70686273 0.73650059]\n",
      "----------\n",
      "\n",
      "(10,)\n"
     ]
    }
   ],
   "execution_count": 110
  },
  {
   "metadata": {
    "ExecuteTime": {
     "end_time": "2024-11-28T08:07:01.787287Z",
     "start_time": "2024-11-28T08:07:01.783429Z"
    }
   },
   "cell_type": "code",
   "source": [
    "# Now we will build some arrays by stacking the vectors we made earlier\n",
    "\n",
    "stack_1 = np.stack([vector_1, vector_2, vector_3]) # Stack on top of each other\n",
    "\n",
    "stack_2 = np.hstack([vector_1, vector_2, vector_3])  # Stack column-wise\n",
    "\n",
    "stack_3 = np.vstack([vector_1, vector_2, vector_3])  # Stack on top of each other"
   ],
   "id": "4e9fdb6a57cb4034",
   "outputs": [],
   "execution_count": 119
  },
  {
   "metadata": {
    "ExecuteTime": {
     "end_time": "2024-11-28T08:06:50.310472Z",
     "start_time": "2024-11-28T08:06:50.303075Z"
    }
   },
   "cell_type": "code",
   "source": "stack_1",
   "id": "82ce2585220c2114",
   "outputs": [
    {
     "data": {
      "text/plain": [
       "array([[0.00000000e+00, 2.22222222e+00, 4.44444444e+00, 6.66666667e+00,\n",
       "        8.88888889e+00, 1.11111111e+01, 1.33333333e+01, 1.55555556e+01,\n",
       "        1.77777778e+01, 2.00000000e+01],\n",
       "       [1.00000000e+00, 2.00000000e+00, 3.00000000e+00, 4.00000000e+00,\n",
       "        5.00000000e+00, 6.00000000e+00, 7.00000000e+00, 8.00000000e+00,\n",
       "        9.00000000e+00, 1.00000000e+01],\n",
       "       [6.41246032e-01, 7.76726623e-01, 9.11993549e-01, 9.95070373e-01,\n",
       "        5.66970790e-01, 2.18236418e-01, 1.62447219e-01, 8.58628311e-03,\n",
       "        7.56628575e-01, 5.52053494e-02]])"
      ]
     },
     "execution_count": 112,
     "metadata": {},
     "output_type": "execute_result"
    }
   ],
   "execution_count": 112
  },
  {
   "metadata": {
    "ExecuteTime": {
     "end_time": "2024-11-28T08:06:50.405134Z",
     "start_time": "2024-11-28T08:06:50.399746Z"
    }
   },
   "cell_type": "code",
   "source": "stack_2",
   "id": "9a37c989cdd4d147",
   "outputs": [
    {
     "data": {
      "text/plain": [
       "array([0.00000000e+00, 2.22222222e+00, 4.44444444e+00, 6.66666667e+00,\n",
       "       8.88888889e+00, 1.11111111e+01, 1.33333333e+01, 1.55555556e+01,\n",
       "       1.77777778e+01, 2.00000000e+01, 1.00000000e+00, 2.00000000e+00,\n",
       "       3.00000000e+00, 4.00000000e+00, 5.00000000e+00, 6.00000000e+00,\n",
       "       7.00000000e+00, 8.00000000e+00, 9.00000000e+00, 1.00000000e+01,\n",
       "       6.41246032e-01, 7.76726623e-01, 9.11993549e-01, 9.95070373e-01,\n",
       "       5.66970790e-01, 2.18236418e-01, 1.62447219e-01, 8.58628311e-03,\n",
       "       7.56628575e-01, 5.52053494e-02])"
      ]
     },
     "execution_count": 113,
     "metadata": {},
     "output_type": "execute_result"
    }
   ],
   "execution_count": 113
  },
  {
   "metadata": {
    "ExecuteTime": {
     "end_time": "2024-11-28T08:06:50.525935Z",
     "start_time": "2024-11-28T08:06:50.518588Z"
    }
   },
   "cell_type": "code",
   "source": "stack_3",
   "id": "fcab88dc8f066078",
   "outputs": [
    {
     "data": {
      "text/plain": [
       "array([[0.00000000e+00, 2.22222222e+00, 4.44444444e+00, 6.66666667e+00,\n",
       "        8.88888889e+00, 1.11111111e+01, 1.33333333e+01, 1.55555556e+01,\n",
       "        1.77777778e+01, 2.00000000e+01],\n",
       "       [1.00000000e+00, 2.00000000e+00, 3.00000000e+00, 4.00000000e+00,\n",
       "        5.00000000e+00, 6.00000000e+00, 7.00000000e+00, 8.00000000e+00,\n",
       "        9.00000000e+00, 1.00000000e+01],\n",
       "       [6.41246032e-01, 7.76726623e-01, 9.11993549e-01, 9.95070373e-01,\n",
       "        5.66970790e-01, 2.18236418e-01, 1.62447219e-01, 8.58628311e-03,\n",
       "        7.56628575e-01, 5.52053494e-02]])"
      ]
     },
     "execution_count": 114,
     "metadata": {},
     "output_type": "execute_result"
    }
   ],
   "execution_count": 114
  },
  {
   "metadata": {
    "ExecuteTime": {
     "end_time": "2024-11-28T08:06:50.648744Z",
     "start_time": "2024-11-28T08:06:50.642829Z"
    }
   },
   "cell_type": "code",
   "source": [
    " # Here we will stack arrays index by index. \n",
    " stacked_depth_wise = np.dstack([vector_1, vector_2])\n",
    " print(stacked_depth_wise.shape)  # We can see here we have a three-dimensional array 1x10x2\n",
    " print(stacked_depth_wise)"
   ],
   "id": "218a2e338d39ec58",
   "outputs": [
    {
     "name": "stdout",
     "output_type": "stream",
     "text": [
      "(1, 10, 2)\n",
      "[[[ 0.          1.        ]\n",
      "  [ 2.22222222  2.        ]\n",
      "  [ 4.44444444  3.        ]\n",
      "  [ 6.66666667  4.        ]\n",
      "  [ 8.88888889  5.        ]\n",
      "  [11.11111111  6.        ]\n",
      "  [13.33333333  7.        ]\n",
      "  [15.55555556  8.        ]\n",
      "  [17.77777778  9.        ]\n",
      "  [20.         10.        ]]]\n"
     ]
    }
   ],
   "execution_count": 115
  },
  {
   "metadata": {
    "ExecuteTime": {
     "end_time": "2024-11-28T08:06:50.729945Z",
     "start_time": "2024-11-28T08:06:50.724359Z"
    }
   },
   "cell_type": "code",
   "source": [
    "# Here we're going to create a new array from three arrays\n",
    "new_concat_0 = np.concatenate([vector_1, vector_2, vector_3])\n",
    "print(new_concat_0)"
   ],
   "id": "99f38aea07130a2c",
   "outputs": [
    {
     "name": "stdout",
     "output_type": "stream",
     "text": [
      "[0.00000000e+00 2.22222222e+00 4.44444444e+00 6.66666667e+00\n",
      " 8.88888889e+00 1.11111111e+01 1.33333333e+01 1.55555556e+01\n",
      " 1.77777778e+01 2.00000000e+01 1.00000000e+00 2.00000000e+00\n",
      " 3.00000000e+00 4.00000000e+00 5.00000000e+00 6.00000000e+00\n",
      " 7.00000000e+00 8.00000000e+00 9.00000000e+00 1.00000000e+01\n",
      " 6.41246032e-01 7.76726623e-01 9.11993549e-01 9.95070373e-01\n",
      " 5.66970790e-01 2.18236418e-01 1.62447219e-01 8.58628311e-03\n",
      " 7.56628575e-01 5.52053494e-02]\n"
     ]
    }
   ],
   "execution_count": 116
  },
  {
   "metadata": {
    "ExecuteTime": {
     "end_time": "2024-11-28T08:06:50.794980Z",
     "start_time": "2024-11-28T08:06:50.789958Z"
    }
   },
   "cell_type": "code",
   "source": [
    "# Now we will take an array and resize it\n",
    "\n",
    "new_concat_0.resize(3, 5, refcheck=False)\n",
    "print(new_concat_0)"
   ],
   "id": "2b2229a2e7303051",
   "outputs": [
    {
     "name": "stdout",
     "output_type": "stream",
     "text": [
      "[[ 0.          2.22222222  4.44444444  6.66666667  8.88888889]\n",
      " [11.11111111 13.33333333 15.55555556 17.77777778 20.        ]\n",
      " [ 1.          2.          3.          4.          5.        ]]\n"
     ]
    }
   ],
   "execution_count": 117
  },
  {
   "metadata": {
    "ExecuteTime": {
     "end_time": "2024-11-28T08:09:18.653913Z",
     "start_time": "2024-11-28T08:09:18.648186Z"
    }
   },
   "cell_type": "code",
   "source": [
    "# Now a few more useful additional methods, append, insert and delete\n",
    "\n",
    "# Append\n",
    "np.append(new_concat_0, new_concat_0, axis=0)  # Let's double up on this array\n",
    "print(\"Using append:\\n\", new_concat_0)\n",
    "print(\"----------\\n\")\n",
    "# Insert\n",
    "inserted_val = np.insert(new_concat_0, [0], 9)\n",
    "print(\"Inserting a 9:\\n\", inserted_val)\n",
    "print(\"----------\\n\")\n",
    "# Delete\n",
    "del_vals = np.delete(new_concat_0, [0, 1])\n",
    "print(\"Deleting first 4 values:\\n\",del_vals)"
   ],
   "id": "cee6ecec4ba270d8",
   "outputs": [
    {
     "name": "stdout",
     "output_type": "stream",
     "text": [
      "Using append:\n",
      " [[ 0.          2.22222222  4.44444444  6.66666667  8.88888889]\n",
      " [11.11111111 13.33333333 15.55555556 17.77777778 20.        ]\n",
      " [ 1.          2.          3.          4.          5.        ]]\n",
      "----------\n",
      "\n",
      "Inserting a 9:\n",
      " [ 9.          0.          2.22222222  4.44444444  6.66666667  8.88888889\n",
      " 11.11111111 13.33333333 15.55555556 17.77777778 20.          1.\n",
      "  2.          3.          4.          5.        ]\n",
      "----------\n",
      "\n",
      "Deleting first 4 values:\n",
      " [ 4.44444444  6.66666667  8.88888889 11.11111111 13.33333333 15.55555556\n",
      " 17.77777778 20.          1.          2.          3.          4.\n",
      "  5.        ]\n"
     ]
    }
   ],
   "execution_count": 125
  },
  {
   "metadata": {
    "ExecuteTime": {
     "end_time": "2024-11-28T08:06:50.902902Z",
     "start_time": "2024-11-28T08:06:50.899616Z"
    }
   },
   "cell_type": "code",
   "source": "",
   "id": "fe1f836139bb4850",
   "outputs": [],
   "execution_count": null
  }
 ],
 "metadata": {
  "kernelspec": {
   "display_name": "Python 3",
   "language": "python",
   "name": "python3"
  },
  "language_info": {
   "codemirror_mode": {
    "name": "ipython",
    "version": 2
   },
   "file_extension": ".py",
   "mimetype": "text/x-python",
   "name": "python",
   "nbconvert_exporter": "python",
   "pygments_lexer": "ipython2",
   "version": "2.7.6"
  }
 },
 "nbformat": 4,
 "nbformat_minor": 5
}
