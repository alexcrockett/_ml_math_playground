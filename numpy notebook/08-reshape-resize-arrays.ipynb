{
 "cells": [
  {
   "cell_type": "code",
   "id": "initial_id",
   "metadata": {
    "collapsed": true,
    "ExecuteTime": {
     "end_time": "2024-11-26T20:06:18.263424Z",
     "start_time": "2024-11-26T20:06:18.257634Z"
    }
   },
   "source": [
    "# Let's build some arrays to reshape and resize\n",
    "\n",
    "# Import numpy\n",
    "import numpy as np\n",
    "\n",
    "# Three arrays with 10 components \n",
    "vector_1 = np.linspace(0, 20, 10)  # An array of 10 components, defined linearly from 0 to 20\n",
    "vector_2 = np.arange(1, 11, 1)  # An array of 10 components, arranged from 1 to 10 \n",
    "vector_3 = np.random.random(10)  # 10 random floating point numbers\n",
    "\n",
    "# Check our work\n",
    "print(vector_1)\n",
    "print(vector_2)\n",
    "print(vector_3)"
   ],
   "outputs": [
    {
     "name": "stdout",
     "output_type": "stream",
     "text": [
      "[ 0.          2.22222222  4.44444444  6.66666667  8.88888889 11.11111111\n",
      " 13.33333333 15.55555556 17.77777778 20.        ]\n",
      "[ 1  2  3  4  5  6  7  8  9 10]\n",
      "[0.22118817 0.48437007 0.55329792 0.83237862 0.93580501 0.22088158\n",
      " 0.64784553 0.43637446 0.06708503 0.468994  ]\n"
     ]
    }
   ],
   "execution_count": 16
  },
  {
   "metadata": {
    "ExecuteTime": {
     "end_time": "2024-11-27T00:57:51.457381Z",
     "start_time": "2024-11-27T00:57:51.450789Z"
    }
   },
   "cell_type": "code",
   "source": [
    "# Now we'll create arrays with more than one dimension using .reshape()\n",
    "array_1 = np.random.random(10).reshape(5, 2)  # A random array with 5 rows and 2 columns\n",
    "array_2 = vector_1.reshape(5, 2)  # An array with shape (5, 2) formed from the first vector above\n",
    "array_3 = vector_2.reshape(5, 2)  # an array with shape (5, 2) formed from the second vector above\n",
    "\n",
    "# Check our work\n",
    "print(array_1)\n",
    "print(\"----------\\n\")\n",
    "print(array_2)\n",
    "print(\"----------\\n\")\n",
    "print(array_3)"
   ],
   "id": "f6d950df3768711d",
   "outputs": [
    {
     "name": "stdout",
     "output_type": "stream",
     "text": [
      "[[0.77064281 0.57802121]\n",
      " [0.40343241 0.63622217]\n",
      " [0.31428768 0.7716268 ]\n",
      " [0.37401065 0.39318827]\n",
      " [0.4405784  0.13360405]]\n",
      "----------\n",
      "\n",
      "[[ 0.          2.22222222]\n",
      " [ 4.44444444  6.66666667]\n",
      " [ 8.88888889 11.11111111]\n",
      " [13.33333333 15.55555556]\n",
      " [17.77777778 20.        ]]\n",
      "----------\n",
      "\n",
      "[[ 1  2]\n",
      " [ 3  4]\n",
      " [ 5  6]\n",
      " [ 7  8]\n",
      " [ 9 10]]\n"
     ]
    }
   ],
   "execution_count": 74
  },
  {
   "metadata": {
    "ExecuteTime": {
     "end_time": "2024-11-27T00:57:38.838272Z",
     "start_time": "2024-11-27T00:57:38.833036Z"
    }
   },
   "cell_type": "code",
   "source": [
    "# Now we'll convert them back with .flatten()\n",
    "flat_1 = array_1.flatten()  # Our first array of (5, 2) flatted back to a vector\n",
    "flat_2 = array_2.flatten()  # Our second array of (5, 2) flatted back to a vector\n",
    "flat_3 = array_3.flatten()  # Our third array of (5, 2) flatted back to a vector\n",
    "\n",
    "# Check our work\n",
    "print(flat_1)\n",
    "print(\"----------\\n\")\n",
    "print(flat_2)\n",
    "print(\"----------\\n\")\n",
    "print(flat_3)"
   ],
   "id": "180170282a01c890",
   "outputs": [
    {
     "name": "stdout",
     "output_type": "stream",
     "text": [
      "[0.77157778 0.22309122 0.07787632 0.11238573 0.92743274 0.59835615\n",
      " 0.40094047 0.02479406 0.77498306 0.87332346]\n",
      "----------\n",
      "\n",
      "[ 0.          2.22222222  4.44444444  6.66666667  8.88888889 11.11111111\n",
      " 13.33333333 15.55555556 17.77777778 20.        ]\n",
      "----------\n",
      "\n",
      "[ 1  2  3  4  5  6  7  8  9 10]\n"
     ]
    }
   ],
   "execution_count": 73
  },
  {
   "metadata": {
    "ExecuteTime": {
     "end_time": "2024-11-27T00:57:15.273689Z",
     "start_time": "2024-11-27T00:57:15.266253Z"
    }
   },
   "cell_type": "code",
   "source": [
    "reshaped_for_squeeze = array_1.reshape(10, 1)  # Reshaping an array so we have a dimension to squeee out\n",
    "squeezed_1 = np.squeeze(reshaped_for_squeeze)  # The dimension squeezed out\n",
    "\n",
    "# Check our work\n",
    "print(f\"Reshaped for squeeing: \\n{reshaped_for_squeeze.shape}\")\n",
    "print(\"----------\\n\")\n",
    "print(f\"The shape after squeezing: \\n{squeezed_1.shape}\")\n",
    "print(\"----------\\n\")\n",
    "print(f\"The reshaped array: \\n{reshaped_for_squeeze}\")\n",
    "print(\"----------\\n\")\n",
    "print(f\"The squeezed array: \\n{squeezed_1}\")"
   ],
   "id": "65eb33a85b587d3e",
   "outputs": [
    {
     "name": "stdout",
     "output_type": "stream",
     "text": [
      "Reshaped for squeeing: \n",
      "(10, 1)\n",
      "----------\n",
      "\n",
      "The shape after squeezing: \n",
      "(10,)\n",
      "----------\n",
      "\n",
      "The reshaped array: \n",
      "[[0.77157778]\n",
      " [0.22309122]\n",
      " [0.07787632]\n",
      " [0.11238573]\n",
      " [0.92743274]\n",
      " [0.59835615]\n",
      " [0.40094047]\n",
      " [0.02479406]\n",
      " [0.77498306]\n",
      " [0.87332346]]\n",
      "----------\n",
      "\n",
      "The squeezed array: \n",
      "[0.77157778 0.22309122 0.07787632 0.11238573 0.92743274 0.59835615\n",
      " 0.40094047 0.02479406 0.77498306 0.87332346]\n"
     ]
    }
   ],
   "execution_count": 72
  },
  {
   "metadata": {
    "ExecuteTime": {
     "end_time": "2024-11-27T00:26:12.648740Z",
     "start_time": "2024-11-27T00:26:12.637447Z"
    }
   },
   "cell_type": "code",
   "source": [
    "# Here we're going to add an axis to the arrays we squeezed\n",
    "\n",
    "add_dims_1 = squeezed_1[:, np.newaxis]  # Add a columns axis\n",
    "print(add_dims_1.shape)\n",
    "print(\"----------\\n\")\n",
    "\n",
    "add_dims_1 = reshaped_for_squeeze[np.newaxis,:]  # Add a rows axis\n",
    "print(add_dims_1.shape)\n",
    "print(\"----------\\n\")\n",
    "\n",
    "print(add_dims_1)"
   ],
   "id": "fefe93e265004760",
   "outputs": [
    {
     "name": "stdout",
     "output_type": "stream",
     "text": [
      "(10, 1)\n",
      "(1, 10, 1)\n",
      "[[[0.77157778]\n",
      "  [0.22309122]\n",
      "  [0.07787632]\n",
      "  [0.11238573]\n",
      "  [0.92743274]\n",
      "  [0.59835615]\n",
      "  [0.40094047]\n",
      "  [0.02479406]\n",
      "  [0.77498306]\n",
      "  [0.87332346]]]\n"
     ]
    }
   ],
   "execution_count": 49
  },
  {
   "metadata": {
    "ExecuteTime": {
     "end_time": "2024-11-27T00:30:36.611919Z",
     "start_time": "2024-11-27T00:30:36.596985Z"
    }
   },
   "cell_type": "code",
   "source": [
    "# Now we're going to flatten out the array and transpose it into a row vector\n",
    "\n",
    "flat = add_dims_1.flatten()  # Flatten the array\n",
    "transpose_dims = flat.transpose()  # Transpose the array\n",
    "\n",
    "# Check our work\n",
    "print(transpose_dims)\n",
    "print(\"----------\\n\")\n",
    "print(transpose_dims.shape)"
   ],
   "id": "c11bcbf151231433",
   "outputs": [
    {
     "name": "stdout",
     "output_type": "stream",
     "text": [
      "[0.77157778 0.22309122 0.07787632 0.11238573 0.92743274 0.59835615\n",
      " 0.40094047 0.02479406 0.77498306 0.87332346]\n",
      "(10,)\n"
     ]
    }
   ],
   "execution_count": 59
  },
  {
   "metadata": {
    "ExecuteTime": {
     "end_time": "2024-11-27T00:32:39.357536Z",
     "start_time": "2024-11-27T00:32:39.348195Z"
    }
   },
   "cell_type": "code",
   "source": [
    "# Now we will build some arrays by stacking the vectors we made earlier\n",
    "\n",
    "stack_1 = np.stack([vector_1, vector_2, vector_3])  # Stack on top of each other\n",
    "stack_2 = np.hstack([vector_1, vector_2, vector_3])  # Stack column-wise\n",
    "stack_3 = np.vstack([vector_1, vector_2, vector_3])  # Stack on top of each other"
   ],
   "id": "4e9fdb6a57cb4034",
   "outputs": [],
   "execution_count": 62
  },
  {
   "metadata": {
    "ExecuteTime": {
     "end_time": "2024-11-27T00:35:12.350913Z",
     "start_time": "2024-11-27T00:35:12.343050Z"
    }
   },
   "cell_type": "code",
   "source": "stack_1",
   "id": "82ce2585220c2114",
   "outputs": [
    {
     "data": {
      "text/plain": [
       "array([[ 0.        ,  2.22222222,  4.44444444,  6.66666667,  8.88888889,\n",
       "        11.11111111, 13.33333333, 15.55555556, 17.77777778, 20.        ],\n",
       "       [ 1.        ,  2.        ,  3.        ,  4.        ,  5.        ,\n",
       "         6.        ,  7.        ,  8.        ,  9.        , 10.        ],\n",
       "       [ 0.22118817,  0.48437007,  0.55329792,  0.83237862,  0.93580501,\n",
       "         0.22088158,  0.64784553,  0.43637446,  0.06708503,  0.468994  ]])"
      ]
     },
     "execution_count": 65,
     "metadata": {},
     "output_type": "execute_result"
    }
   ],
   "execution_count": 65
  },
  {
   "metadata": {
    "ExecuteTime": {
     "end_time": "2024-11-27T00:35:44.155844Z",
     "start_time": "2024-11-27T00:35:44.145093Z"
    }
   },
   "cell_type": "code",
   "source": "stack_2",
   "id": "9a37c989cdd4d147",
   "outputs": [
    {
     "data": {
      "text/plain": [
       "array([ 0.        ,  2.22222222,  4.44444444,  6.66666667,  8.88888889,\n",
       "       11.11111111, 13.33333333, 15.55555556, 17.77777778, 20.        ,\n",
       "        1.        ,  2.        ,  3.        ,  4.        ,  5.        ,\n",
       "        6.        ,  7.        ,  8.        ,  9.        , 10.        ,\n",
       "        0.22118817,  0.48437007,  0.55329792,  0.83237862,  0.93580501,\n",
       "        0.22088158,  0.64784553,  0.43637446,  0.06708503,  0.468994  ])"
      ]
     },
     "execution_count": 69,
     "metadata": {},
     "output_type": "execute_result"
    }
   ],
   "execution_count": 69
  },
  {
   "metadata": {
    "ExecuteTime": {
     "end_time": "2024-11-27T00:36:00.533346Z",
     "start_time": "2024-11-27T00:36:00.512853Z"
    }
   },
   "cell_type": "code",
   "source": "stack_3",
   "id": "fcab88dc8f066078",
   "outputs": [
    {
     "data": {
      "text/plain": [
       "array([[ 0.        ,  2.22222222,  4.44444444,  6.66666667,  8.88888889,\n",
       "        11.11111111, 13.33333333, 15.55555556, 17.77777778, 20.        ],\n",
       "       [ 1.        ,  2.        ,  3.        ,  4.        ,  5.        ,\n",
       "         6.        ,  7.        ,  8.        ,  9.        , 10.        ],\n",
       "       [ 0.22118817,  0.48437007,  0.55329792,  0.83237862,  0.93580501,\n",
       "         0.22088158,  0.64784553,  0.43637446,  0.06708503,  0.468994  ]])"
      ]
     },
     "execution_count": 70,
     "metadata": {},
     "output_type": "execute_result"
    }
   ],
   "execution_count": 70
  },
  {
   "metadata": {
    "ExecuteTime": {
     "end_time": "2024-11-27T01:38:41.829009Z",
     "start_time": "2024-11-27T01:38:41.823969Z"
    }
   },
   "cell_type": "code",
   "source": [
    " # Here we will stack arrays index by index. \n",
    " stacked_depth_wise = np.dstack([vector_1, vector_2])\n",
    " print(stacked_depth_wise.shape)  # We can see here we have a three dimensional arra 1x10x2\n",
    " print(stacked_depth_wise)"
   ],
   "id": "218a2e338d39ec58",
   "outputs": [
    {
     "name": "stdout",
     "output_type": "stream",
     "text": [
      "(1, 10, 2)\n",
      "[[[ 0.          1.        ]\n",
      "  [ 2.22222222  2.        ]\n",
      "  [ 4.44444444  3.        ]\n",
      "  [ 6.66666667  4.        ]\n",
      "  [ 8.88888889  5.        ]\n",
      "  [11.11111111  6.        ]\n",
      "  [13.33333333  7.        ]\n",
      "  [15.55555556  8.        ]\n",
      "  [17.77777778  9.        ]\n",
      "  [20.         10.        ]]]\n"
     ]
    }
   ],
   "execution_count": 77
  },
  {
   "metadata": {},
   "cell_type": "code",
   "outputs": [],
   "execution_count": null,
   "source": "",
   "id": "99f38aea07130a2c"
  }
 ],
 "metadata": {
  "kernelspec": {
   "display_name": "Python 3",
   "language": "python",
   "name": "python3"
  },
  "language_info": {
   "codemirror_mode": {
    "name": "ipython",
    "version": 2
   },
   "file_extension": ".py",
   "mimetype": "text/x-python",
   "name": "python",
   "nbconvert_exporter": "python",
   "pygments_lexer": "ipython2",
   "version": "2.7.6"
  }
 },
 "nbformat": 4,
 "nbformat_minor": 5
}
