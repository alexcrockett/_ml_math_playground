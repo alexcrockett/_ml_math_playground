{
 "cells": [
  {
   "cell_type": "code",
   "id": "initial_id",
   "metadata": {
    "collapsed": true,
    "ExecuteTime": {
     "end_time": "2024-11-27T00:44:27.490892Z",
     "start_time": "2024-11-27T00:44:27.184983Z"
    }
   },
   "source": "import numpy as np",
   "outputs": [],
   "execution_count": 1
  },
  {
   "metadata": {
    "ExecuteTime": {
     "end_time": "2024-11-15T06:45:48.121215Z",
     "start_time": "2024-11-15T06:45:48.102473Z"
    }
   },
   "cell_type": "code",
   "source": [
    "# First, a simple 2 x 3 array\n",
    "basic_array = np.array([[1, 2, 3], [4, 5, 6]])\n",
    "print(basic_array)\n",
    "print(basic_array.shape)"
   ],
   "id": "5a35be0f81a25b97",
   "outputs": [
    {
     "name": "stdout",
     "output_type": "stream",
     "text": [
      "[[1 2 3]\n",
      " [4 5 6]]\n",
      "(2, 3)\n"
     ]
    }
   ],
   "execution_count": 2
  },
  {
   "metadata": {
    "ExecuteTime": {
     "end_time": "2024-11-15T06:47:22.952626Z",
     "start_time": "2024-11-15T06:47:22.944653Z"
    }
   },
   "cell_type": "code",
   "source": [
    "# An array of one\n",
    "ones_array = np.ones(3)\n",
    "print(ones_array)"
   ],
   "id": "31b491e28a210e88",
   "outputs": [
    {
     "name": "stdout",
     "output_type": "stream",
     "text": [
      "[1. 1. 1.]\n"
     ]
    }
   ],
   "execution_count": 5
  },
  {
   "metadata": {
    "ExecuteTime": {
     "end_time": "2024-11-15T06:48:08.516002Z",
     "start_time": "2024-11-15T06:48:08.492790Z"
    }
   },
   "cell_type": "code",
   "source": [
    "# Same thing, but zeroes\n",
    "zeroes_array = np.zeros(3)\n",
    "print(zeroes_array)"
   ],
   "id": "a5195eedfeb6fc5e",
   "outputs": [
    {
     "name": "stdout",
     "output_type": "stream",
     "text": [
      "[0. 0. 0.]\n"
     ]
    }
   ],
   "execution_count": 6
  },
  {
   "metadata": {
    "ExecuteTime": {
     "end_time": "2024-11-16T08:19:46.997221Z",
     "start_time": "2024-11-16T08:19:46.835986Z"
    }
   },
   "cell_type": "code",
   "source": [
    "# We will now create a diagonal array\n",
    "diag_array = np.diag([1, 2, 3])\n",
    "print(diag_array)\n",
    "\n",
    "# Same idea, but in echelon form\n",
    "echelon_array = np.diag([1, 1, 1])\n",
    "print(echelon_array)\n",
    "\n",
    "# We can also do this by using the identity function\n",
    "np.identity(6)"
   ],
   "id": "9792fb979f5f5de1",
   "outputs": [
    {
     "name": "stdout",
     "output_type": "stream",
     "text": [
      "[[1 0 0]\n",
      " [0 2 0]\n",
      " [0 0 3]]\n",
      "[[1 0 0]\n",
      " [0 1 0]\n",
      " [0 0 1]]\n"
     ]
    },
    {
     "data": {
      "text/plain": [
       "array([[1., 0., 0., 0., 0., 0.],\n",
       "       [0., 1., 0., 0., 0., 0.],\n",
       "       [0., 0., 1., 0., 0., 0.],\n",
       "       [0., 0., 0., 1., 0., 0.],\n",
       "       [0., 0., 0., 0., 1., 0.],\n",
       "       [0., 0., 0., 0., 0., 1.]])"
      ]
     },
     "execution_count": 48,
     "metadata": {},
     "output_type": "execute_result"
    }
   ],
   "execution_count": 48
  },
  {
   "metadata": {
    "ExecuteTime": {
     "end_time": "2024-11-15T06:53:02.388534Z",
     "start_time": "2024-11-15T06:53:02.380201Z"
    }
   },
   "cell_type": "code",
   "source": [
    "# An array of evenly spaced values, from 0 to 6, numbers 2 apart\n",
    "# start, end, spacing\n",
    "even_space_array = np.arange(0, 8, 2)\n",
    "print(even_space_array)"
   ],
   "id": "3991a44c38300c0d",
   "outputs": [
    {
     "name": "stdout",
     "output_type": "stream",
     "text": [
      "[0 2 4 6]\n"
     ]
    }
   ],
   "execution_count": 15
  },
  {
   "metadata": {
    "ExecuteTime": {
     "end_time": "2024-11-15T06:55:22.646513Z",
     "start_time": "2024-11-15T06:55:22.638779Z"
    }
   },
   "cell_type": "code",
   "source": [
    "# Now, instead of the increment, we will define the number of array components\n",
    "# start, end, number of components\n",
    "linear_array = np.linspace(0, 10, 20)\n",
    "print(linear_array)"
   ],
   "id": "9d5410691da1b59a",
   "outputs": [
    {
     "name": "stdout",
     "output_type": "stream",
     "text": [
      "[ 0.          0.52631579  1.05263158  1.57894737  2.10526316  2.63157895\n",
      "  3.15789474  3.68421053  4.21052632  4.73684211  5.26315789  5.78947368\n",
      "  6.31578947  6.84210526  7.36842105  7.89473684  8.42105263  8.94736842\n",
      "  9.47368421 10.        ]\n"
     ]
    }
   ],
   "execution_count": 18
  },
  {
   "metadata": {
    "ExecuteTime": {
     "end_time": "2024-11-15T07:07:15.364037Z",
     "start_time": "2024-11-15T07:07:15.339909Z"
    }
   },
   "cell_type": "code",
   "source": [
    "# Now an array of values that are logarithmically spaced\n",
    "log_space_array = np.logspace(0, 120, 20)\n",
    "print(log_space_array)"
   ],
   "id": "c6848d93f9b53d48",
   "outputs": [
    {
     "name": "stdout",
     "output_type": "stream",
     "text": [
      "[1.00000000e+000 2.06913808e+006 4.28133240e+012 8.85866790e+018\n",
      " 1.83298071e+025 3.79269019e+031 7.84759970e+037 1.62377674e+044\n",
      " 3.35981829e+050 6.95192796e+056 1.43844989e+063 2.97635144e+069\n",
      " 6.15848211e+075 1.27427499e+082 2.63665090e+088 5.45559478e+094\n",
      " 1.12883789e+101 2.33572147e+107 4.83293024e+113 1.00000000e+120]\n"
     ]
    }
   ],
   "execution_count": 30
  },
  {
   "metadata": {
    "ExecuteTime": {
     "end_time": "2024-11-15T07:22:23.402267Z",
     "start_time": "2024-11-15T07:22:23.379721Z"
    }
   },
   "cell_type": "code",
   "source": [
    "# Creating a meshgrid\n",
    "# See 02-mesh-grids.ipynb for more information on why this is useful\n",
    "\n",
    "mesh_array_one = np.meshgrid(np.linspace(0, 10, 5))\n",
    "mesh_array_two = np.meshgrid(np.linspace(0, 10, 5), np.linspace(10, 20, 5))\n",
    "print(mesh_array_one)\n",
    "print(\"---\")\n",
    "print(mesh_array_two)"
   ],
   "id": "7983dda47f2202df",
   "outputs": [
    {
     "name": "stdout",
     "output_type": "stream",
     "text": [
      "[array([ 0. ,  2.5,  5. ,  7.5, 10. ])]\n",
      "---\n",
      "[array([[ 0. ,  2.5,  5. ,  7.5, 10. ],\n",
      "       [ 0. ,  2.5,  5. ,  7.5, 10. ],\n",
      "       [ 0. ,  2.5,  5. ,  7.5, 10. ],\n",
      "       [ 0. ,  2.5,  5. ,  7.5, 10. ],\n",
      "       [ 0. ,  2.5,  5. ,  7.5, 10. ]]), array([[10. , 10. , 10. , 10. , 10. ],\n",
      "       [12.5, 12.5, 12.5, 12.5, 12.5],\n",
      "       [15. , 15. , 15. , 15. , 15. ],\n",
      "       [17.5, 17.5, 17.5, 17.5, 17.5],\n",
      "       [20. , 20. , 20. , 20. , 20. ]])]\n"
     ]
    }
   ],
   "execution_count": 34
  },
  {
   "metadata": {
    "ExecuteTime": {
     "end_time": "2024-11-15T07:50:41.797024Z",
     "start_time": "2024-11-15T07:50:41.783117Z"
    }
   },
   "cell_type": "code",
   "source": [
    "# We will now use a function to define the values of an array\n",
    "\n",
    "# Here we define a function\n",
    "def quad_indices(i, j): \n",
    "\treturn i**j\n",
    "\n",
    "# Now the array\n",
    "# func_array = np.fromfunction(lambda i, j: x_func[i, j], (5, 5))\n",
    "shape = (2, 4) # Shape of the output array \n",
    "quad_array = np.fromfunction(quad_indices, shape, dtype=float)\n",
    "print(quad_array)"
   ],
   "id": "d54dec1e01670265",
   "outputs": [
    {
     "name": "stdout",
     "output_type": "stream",
     "text": [
      "[[1. 0. 0. 0.]\n",
      " [1. 1. 1. 1.]]\n"
     ]
    }
   ],
   "execution_count": 41
  },
  {
   "metadata": {
    "ExecuteTime": {
     "end_time": "2024-11-15T07:52:17.060637Z",
     "start_time": "2024-11-15T07:52:17.052312Z"
    }
   },
   "cell_type": "code",
   "source": [
    "# A random array\n",
    "random_array = np.random.random(3)\n",
    "print(random_array)"
   ],
   "id": "a5ee1fe4eaed115c",
   "outputs": [
    {
     "name": "stdout",
     "output_type": "stream",
     "text": [
      "[0.2467424  0.49077642 0.20716243]\n"
     ]
    }
   ],
   "execution_count": 44
  },
  {
   "metadata": {
    "ExecuteTime": {
     "end_time": "2024-11-15T07:55:42.285510Z",
     "start_time": "2024-11-15T07:55:42.277285Z"
    }
   },
   "cell_type": "code",
   "source": [
    "# Fill an array with constant values\n",
    "empty_array = np.empty(3)\n",
    "print(empty_array)\n",
    "empty_array.fill(4.0)\n",
    "print(empty_array)"
   ],
   "id": "a5e787702f1316b1",
   "outputs": [
    {
     "name": "stdout",
     "output_type": "stream",
     "text": [
      "[0. 0. 0.]\n",
      "[4. 4. 4.]\n"
     ]
    }
   ],
   "execution_count": 47
  },
  {
   "metadata": {},
   "cell_type": "code",
   "outputs": [],
   "execution_count": null,
   "source": "",
   "id": "9b2fc67fd96fae3c"
  }
 ],
 "metadata": {
  "kernelspec": {
   "display_name": "Python 3",
   "language": "python",
   "name": "python3"
  },
  "language_info": {
   "codemirror_mode": {
    "name": "ipython",
    "version": 2
   },
   "file_extension": ".py",
   "mimetype": "text/x-python",
   "name": "python",
   "nbconvert_exporter": "python",
   "pygments_lexer": "ipython2",
   "version": "2.7.6"
  }
 },
 "nbformat": 4,
 "nbformat_minor": 5
}
