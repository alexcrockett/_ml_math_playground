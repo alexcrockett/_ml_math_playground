{
 "cells": [
  {
   "cell_type": "code",
   "id": "initial_id",
   "metadata": {
    "collapsed": true,
    "ExecuteTime": {
     "end_time": "2024-11-17T07:04:21.391045Z",
     "start_time": "2024-11-17T07:04:21.387428Z"
    }
   },
   "source": "import numpy as np",
   "outputs": [],
   "execution_count": 14
  },
  {
   "metadata": {
    "ExecuteTime": {
     "end_time": "2024-11-17T07:04:21.409449Z",
     "start_time": "2024-11-17T07:04:21.402055Z"
    }
   },
   "cell_type": "code",
   "source": "np.identity(4)",
   "id": "d0494da3329f7b4e",
   "outputs": [
    {
     "data": {
      "text/plain": [
       "array([[1., 0., 0., 0.],\n",
       "       [0., 1., 0., 0.],\n",
       "       [0., 0., 1., 0.],\n",
       "       [0., 0., 0., 1.]])"
      ]
     },
     "execution_count": 15,
     "metadata": {},
     "output_type": "execute_result"
    }
   ],
   "execution_count": 15
  },
  {
   "metadata": {
    "ExecuteTime": {
     "end_time": "2024-11-17T07:04:21.498073Z",
     "start_time": "2024-11-17T07:04:21.492797Z"
    }
   },
   "cell_type": "code",
   "source": [
    "# The np.eye function will create an array similar to identity, except there is an optional offset as the next couple examples will show\n",
    "\n",
    "np.eye(4)"
   ],
   "id": "6b287e7defbc29d2",
   "outputs": [
    {
     "data": {
      "text/plain": [
       "array([[1., 0., 0., 0.],\n",
       "       [0., 1., 0., 0.],\n",
       "       [0., 0., 1., 0.],\n",
       "       [0., 0., 0., 1.]])"
      ]
     },
     "execution_count": 16,
     "metadata": {},
     "output_type": "execute_result"
    }
   ],
   "execution_count": 16
  },
  {
   "metadata": {
    "ExecuteTime": {
     "end_time": "2024-11-17T07:04:21.599673Z",
     "start_time": "2024-11-17T07:04:21.592277Z"
    }
   },
   "cell_type": "code",
   "source": "np.eye(4, k=1)",
   "id": "9ed0f8a56cd77081",
   "outputs": [
    {
     "data": {
      "text/plain": [
       "array([[0., 1., 0., 0.],\n",
       "       [0., 0., 1., 0.],\n",
       "       [0., 0., 0., 1.],\n",
       "       [0., 0., 0., 0.]])"
      ]
     },
     "execution_count": 17,
     "metadata": {},
     "output_type": "execute_result"
    }
   ],
   "execution_count": 17
  },
  {
   "metadata": {
    "ExecuteTime": {
     "end_time": "2024-11-17T07:04:21.717795Z",
     "start_time": "2024-11-17T07:04:21.710552Z"
    }
   },
   "cell_type": "code",
   "source": [
    "# Here we will create a diagonal\n",
    "np.diag([1, 2, 3])"
   ],
   "id": "dfeb68026985cfab",
   "outputs": [
    {
     "data": {
      "text/plain": [
       "array([[1, 0, 0],\n",
       "       [0, 2, 0],\n",
       "       [0, 0, 3]])"
      ]
     },
     "execution_count": 18,
     "metadata": {},
     "output_type": "execute_result"
    }
   ],
   "execution_count": 18
  },
  {
   "metadata": {
    "ExecuteTime": {
     "end_time": "2024-11-17T07:04:21.833433Z",
     "start_time": "2024-11-17T07:04:21.825461Z"
    }
   },
   "cell_type": "code",
   "source": [
    "# Here we will use the same function, but give arange() as its arg\n",
    "# What this will do is create a diagonal of the arange() array's arguments\n",
    "np.arange(1, 20, 3)\n",
    "np.diag(np.arange(1, 20, 3))"
   ],
   "id": "a9bcbaa6807d3bd0",
   "outputs": [
    {
     "data": {
      "text/plain": [
       "array([[ 1,  0,  0,  0,  0,  0,  0],\n",
       "       [ 0,  4,  0,  0,  0,  0,  0],\n",
       "       [ 0,  0,  7,  0,  0,  0,  0],\n",
       "       [ 0,  0,  0, 10,  0,  0,  0],\n",
       "       [ 0,  0,  0,  0, 13,  0,  0],\n",
       "       [ 0,  0,  0,  0,  0, 16,  0],\n",
       "       [ 0,  0,  0,  0,  0,  0, 19]])"
      ]
     },
     "execution_count": 19,
     "metadata": {},
     "output_type": "execute_result"
    }
   ],
   "execution_count": 19
  },
  {
   "metadata": {
    "ExecuteTime": {
     "end_time": "2024-11-17T07:04:21.931024Z",
     "start_time": "2024-11-17T07:04:21.926453Z"
    }
   },
   "cell_type": "code",
   "source": "",
   "id": "ddaf2f7791d0de37",
   "outputs": [],
   "execution_count": null
  }
 ],
 "metadata": {
  "kernelspec": {
   "display_name": "Python 3",
   "language": "python",
   "name": "python3"
  },
  "language_info": {
   "codemirror_mode": {
    "name": "ipython",
    "version": 2
   },
   "file_extension": ".py",
   "mimetype": "text/x-python",
   "name": "python",
   "nbconvert_exporter": "python",
   "pygments_lexer": "ipython2",
   "version": "2.7.6"
  }
 },
 "nbformat": 4,
 "nbformat_minor": 5
}
