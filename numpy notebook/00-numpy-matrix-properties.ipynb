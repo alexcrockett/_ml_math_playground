{
 "cells": [
  {
   "cell_type": "code",
   "id": "initial_id",
   "metadata": {
    "collapsed": true,
    "ExecuteTime": {
     "end_time": "2024-11-14T17:49:58.285529Z",
     "start_time": "2024-11-14T17:49:58.261143Z"
    }
   },
   "source": [
    "import numpy as np\n",
    "import math\n",
    "from spyder_kernels.utils.lazymodules import numpy"
   ],
   "outputs": [],
   "execution_count": 11
  },
  {
   "metadata": {
    "ExecuteTime": {
     "end_time": "2024-11-14T17:49:58.305235Z",
     "start_time": "2024-11-14T17:49:58.299543Z"
    }
   },
   "cell_type": "code",
   "source": [
    "# create an array\n",
    "\n",
    "x = np.array([[1,2,3],[4,5,6],[7,8,9]])  # A 3x3 array\n",
    "y = np.random.randn(3, 3)  # A 3x3 array randomly generated\n",
    "print(x)\n",
    "print(y)"
   ],
   "id": "1a9be30530f1a45a",
   "outputs": [
    {
     "name": "stdout",
     "output_type": "stream",
     "text": [
      "[[1 2 3]\n",
      " [4 5 6]\n",
      " [7 8 9]]\n",
      "[[-0.13695709  1.05136339 -0.94662131]\n",
      " [ 1.08819856  0.34335449 -1.76478214]\n",
      " [ 0.59635437  0.42076399 -0.23375955]]\n"
     ]
    }
   ],
   "execution_count": 12
  },
  {
   "metadata": {
    "ExecuteTime": {
     "end_time": "2024-11-14T17:49:58.415871Z",
     "start_time": "2024-11-14T17:49:58.409236Z"
    }
   },
   "cell_type": "code",
   "source": [
    "# Here we're printing the dimensions of the matrices\n",
    "\n",
    "print(np.shape(x))\n",
    "print(np.shape(y))"
   ],
   "id": "d57c67faf9823894",
   "outputs": [
    {
     "name": "stdout",
     "output_type": "stream",
     "text": [
      "(3, 3)\n",
      "(3, 3)\n"
     ]
    }
   ],
   "execution_count": 13
  },
  {
   "metadata": {
    "ExecuteTime": {
     "end_time": "2024-11-14T17:49:58.549568Z",
     "start_time": "2024-11-14T17:49:58.543255Z"
    }
   },
   "cell_type": "code",
   "source": [
    "# Here we're printing the number of components in each matrix\n",
    "\n",
    "print(np.size(x))\n",
    "print(np.size(y))"
   ],
   "id": "ab2a52cfc493aa9b",
   "outputs": [
    {
     "name": "stdout",
     "output_type": "stream",
     "text": [
      "9\n",
      "9\n"
     ]
    }
   ],
   "execution_count": 14
  },
  {
   "metadata": {
    "ExecuteTime": {
     "end_time": "2024-11-14T17:50:34.433384Z",
     "start_time": "2024-11-14T17:50:34.429463Z"
    }
   },
   "cell_type": "code",
   "source": [
    "# Here we will print more array attributes\n",
    "# Notice the syntax 'x.method' we could have done this for size and shape as well\n",
    "\n",
    "print(x.ndim)  # Number of dimensions/axes x\n",
    "print(y.ndim)  # Number of dimensions/axes y"
   ],
   "id": "e2709a280d97381a",
   "outputs": [
    {
     "name": "stdout",
     "output_type": "stream",
     "text": [
      "2\n",
      "2\n"
     ]
    }
   ],
   "execution_count": 16
  },
  {
   "metadata": {
    "ExecuteTime": {
     "end_time": "2024-11-14T18:56:08.988342Z",
     "start_time": "2024-11-14T18:56:08.974019Z"
    }
   },
   "cell_type": "code",
   "source": [
    "# Here we will identify the type of data\n",
    "print(x.dtype, y.dtype)\n",
    "\n",
    "# Here we print the number of bytes of each object\n",
    "print(x.nbytes, y.nbytes)"
   ],
   "id": "35621a2ac2d831ef",
   "outputs": [
    {
     "name": "stdout",
     "output_type": "stream",
     "text": [
      "int32 float64\n",
      "36 72\n"
     ]
    }
   ],
   "execution_count": 17
  },
  {
   "metadata": {},
   "cell_type": "code",
   "outputs": [],
   "execution_count": null,
   "source": "",
   "id": "60691f7811b10af2"
  }
 ],
 "metadata": {
  "kernelspec": {
   "display_name": "Python 3",
   "language": "python",
   "name": "python3"
  },
  "language_info": {
   "codemirror_mode": {
    "name": "ipython",
    "version": 2
   },
   "file_extension": ".py",
   "mimetype": "text/x-python",
   "name": "python",
   "nbconvert_exporter": "python",
   "pygments_lexer": "ipython2",
   "version": "2.7.6"
  }
 },
 "nbformat": 4,
 "nbformat_minor": 5
}
