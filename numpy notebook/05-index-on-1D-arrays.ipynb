{
 "cells": [
  {
   "metadata": {
    "ExecuteTime": {
     "end_time": "2024-11-22T06:15:52.480119Z",
     "start_time": "2024-11-22T06:15:52.225273Z"
    }
   },
   "cell_type": "code",
   "source": "import numpy as np",
   "id": "913d6e7e5cf679cb",
   "outputs": [],
   "execution_count": 1
  },
  {
   "metadata": {
    "ExecuteTime": {
     "end_time": "2024-11-22T06:17:20.848286Z",
     "start_time": "2024-11-22T06:17:20.843193Z"
    }
   },
   "cell_type": "code",
   "source": [
    "# Make a 1D array\n",
    "array = np.random.rand(6)\n",
    "print(array)"
   ],
   "id": "e26dada5d11a73c",
   "outputs": [
    {
     "name": "stdout",
     "output_type": "stream",
     "text": [
      "[0.37203338 0.13423913 0.89971417 0.95371167 0.61220621 0.49919804]\n"
     ]
    }
   ],
   "execution_count": 8
  },
  {
   "metadata": {
    "ExecuteTime": {
     "end_time": "2024-11-22T06:31:15.505950Z",
     "start_time": "2024-11-22T06:31:15.494620Z"
    }
   },
   "cell_type": "code",
   "source": [
    "# Select an element in the array\n",
    "array[2]  # The third element"
   ],
   "id": "f3bd690435afff0f",
   "outputs": [
    {
     "data": {
      "text/plain": [
       "0.8997141735714616"
      ]
     },
     "execution_count": 9,
     "metadata": {},
     "output_type": "execute_result"
    }
   ],
   "execution_count": 9
  },
  {
   "metadata": {
    "ExecuteTime": {
     "end_time": "2024-11-22T06:31:38.010777Z",
     "start_time": "2024-11-22T06:31:38.005424Z"
    }
   },
   "cell_type": "code",
   "source": [
    "# The second to last element\n",
    "array[-2]"
   ],
   "id": "2acf4d7d47901b27",
   "outputs": [
    {
     "data": {
      "text/plain": [
       "0.6122062051557977"
      ]
     },
     "execution_count": 10,
     "metadata": {},
     "output_type": "execute_result"
    }
   ],
   "execution_count": 10
  },
  {
   "metadata": {
    "ExecuteTime": {
     "end_time": "2024-11-22T06:33:44.813415Z",
     "start_time": "2024-11-22T06:33:44.806754Z"
    }
   },
   "cell_type": "code",
   "source": [
    "# Elements from the second and ending at the 5th\n",
    "array[1:5]"
   ],
   "id": "9f68ae68334ef883",
   "outputs": [
    {
     "data": {
      "text/plain": [
       "array([0.13423913, 0.89971417, 0.95371167, 0.61220621])"
      ]
     },
     "execution_count": 13,
     "metadata": {},
     "output_type": "execute_result"
    }
   ],
   "execution_count": 13
  },
  {
   "metadata": {
    "ExecuteTime": {
     "end_time": "2024-11-22T06:35:24.109334Z",
     "start_time": "2024-11-22T06:35:24.101833Z"
    }
   },
   "cell_type": "code",
   "source": [
    "# Select all elements\n",
    "array[:]  # Method 1"
   ],
   "id": "44c077322a34eb49",
   "outputs": [
    {
     "data": {
      "text/plain": [
       "array([0.37203338, 0.13423913, 0.89971417, 0.95371167, 0.61220621,\n",
       "       0.49919804])"
      ]
     },
     "execution_count": 18,
     "metadata": {},
     "output_type": "execute_result"
    }
   ],
   "execution_count": 18
  },
  {
   "metadata": {
    "ExecuteTime": {
     "end_time": "2024-11-22T06:37:40.294183Z",
     "start_time": "2024-11-22T06:37:40.284637Z"
    }
   },
   "cell_type": "code",
   "source": [
    "# Elements from the third through the end\n",
    "array[2:]"
   ],
   "id": "907fd16f8059427d",
   "outputs": [
    {
     "data": {
      "text/plain": [
       "array([0.89971417, 0.95371167, 0.61220621, 0.49919804])"
      ]
     },
     "execution_count": 22,
     "metadata": {},
     "output_type": "execute_result"
    }
   ],
   "execution_count": 22
  },
  {
   "metadata": {
    "ExecuteTime": {
     "end_time": "2024-11-22T06:38:50.833606Z",
     "start_time": "2024-11-22T06:38:50.827959Z"
    }
   },
   "cell_type": "code",
   "source": [
    "# Elements two through 6, at interval 2\n",
    "array[1:7:2]"
   ],
   "id": "e1ab5447e9c79984",
   "outputs": [
    {
     "data": {
      "text/plain": [
       "array([0.13423913, 0.95371167, 0.49919804])"
      ]
     },
     "execution_count": 23,
     "metadata": {},
     "output_type": "execute_result"
    }
   ],
   "execution_count": 23
  },
  {
   "metadata": {
    "ExecuteTime": {
     "end_time": "2024-11-22T06:39:18.334351Z",
     "start_time": "2024-11-22T06:39:18.327737Z"
    }
   },
   "cell_type": "code",
   "source": [
    "# All elements in reverse order\n",
    "array[::-1]"
   ],
   "id": "4358f0491f18180",
   "outputs": [
    {
     "data": {
      "text/plain": [
       "array([0.49919804, 0.61220621, 0.95371167, 0.89971417, 0.13423913,\n",
       "       0.37203338])"
      ]
     },
     "execution_count": 24,
     "metadata": {},
     "output_type": "execute_result"
    }
   ],
   "execution_count": 24
  },
  {
   "metadata": {},
   "cell_type": "code",
   "outputs": [],
   "execution_count": null,
   "source": "",
   "id": "969253b46c623164"
  }
 ],
 "metadata": {
  "kernelspec": {
   "display_name": "Python 3",
   "language": "python",
   "name": "python3"
  },
  "language_info": {
   "codemirror_mode": {
    "name": "ipython",
    "version": 2
   },
   "file_extension": ".py",
   "mimetype": "text/x-python",
   "name": "python",
   "nbconvert_exporter": "python",
   "pygments_lexer": "ipython2",
   "version": "2.7.6"
  }
 },
 "nbformat": 4,
 "nbformat_minor": 5
}
