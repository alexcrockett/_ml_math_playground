{
 "cells": [
  {
   "cell_type": "code",
   "id": "initial_id",
   "metadata": {
    "collapsed": true,
    "ExecuteTime": {
     "end_time": "2024-11-26T15:31:56.600474Z",
     "start_time": "2024-11-26T15:31:56.589283Z"
    }
   },
   "source": [
    "# Import library and build an array\n",
    "import numpy as np\n",
    "test_array = np.linspace(0, 10, 5)\n",
    "\n",
    "# Check the array\n",
    "print(\"Our test array:\\n\", test_array)\n",
    "\n",
    "# Index values in the array\n",
    "print(f\"An indexed version of this array: \\n {test_array[np.array([1, 2, -1])]}\")\n",
    "\n",
    "# Index the values based on a boolean operation\n",
    "print(\"The same array indexed with a boolean:\\n\", test_array[test_array == int( )])"
   ],
   "outputs": [
    {
     "name": "stdout",
     "output_type": "stream",
     "text": [
      "Our test array:\n",
      " [ 0.   2.5  5.   7.5 10. ]\n",
      "An indexed version of this array: \n",
      " [ 2.5  5.  10. ]\n",
      "The same array indexed with a boolean:\n",
      " [0.]\n"
     ]
    }
   ],
   "execution_count": 14
  },
  {
   "metadata": {},
   "cell_type": "code",
   "outputs": [],
   "execution_count": null,
   "source": "",
   "id": "d385022ad8ab29e"
  }
 ],
 "metadata": {
  "kernelspec": {
   "display_name": "Python 3",
   "language": "python",
   "name": "python3"
  },
  "language_info": {
   "codemirror_mode": {
    "name": "ipython",
    "version": 2
   },
   "file_extension": ".py",
   "mimetype": "text/x-python",
   "name": "python",
   "nbconvert_exporter": "python",
   "pygments_lexer": "ipython2",
   "version": "2.7.6"
  }
 },
 "nbformat": 4,
 "nbformat_minor": 5
}
