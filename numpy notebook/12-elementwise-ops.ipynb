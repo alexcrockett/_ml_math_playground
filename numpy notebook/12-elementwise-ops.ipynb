{
 "cells": [
  {
   "cell_type": "code",
   "id": "initial_id",
   "metadata": {
    "collapsed": true,
    "ExecuteTime": {
     "end_time": "2025-02-02T21:21:52.540819Z",
     "start_time": "2025-02-02T21:21:52.430033Z"
    }
   },
   "source": "import numpy as np",
   "outputs": [],
   "execution_count": 1
  },
  {
   "metadata": {},
   "cell_type": "markdown",
   "source": "The various functions and operations in this section are applied element by element in the matrices.",
   "id": "e4f755bcb3a1b40f"
  },
  {
   "metadata": {
    "ExecuteTime": {
     "end_time": "2025-02-02T21:40:38.056742Z",
     "start_time": "2025-02-02T21:40:38.046260Z"
    }
   },
   "cell_type": "code",
   "source": [
    "array = np.logspace(3, 10, num=4)\n",
    "array = array.reshape(2, 2)\n",
    "print(array)"
   ],
   "id": "60a067ad2b00f652",
   "outputs": [
    {
     "name": "stdout",
     "output_type": "stream",
     "text": [
      "[[1.00000000e+03 2.15443469e+05]\n",
      " [4.64158883e+07 1.00000000e+10]]\n"
     ]
    }
   ],
   "execution_count": 9
  },
  {
   "metadata": {
    "ExecuteTime": {
     "end_time": "2025-02-02T21:43:09.084888Z",
     "start_time": "2025-02-02T21:43:09.067497Z"
    }
   },
   "cell_type": "code",
   "source": [
    "# Other trig functions inc: arcos, arcsin, arctan, cosh, sinh, tanh, arcosh, arcsinh, arctanh\n",
    "\n",
    "cosine = np.cos(np.pi / array)\n",
    "sine = np.sin(np.pi * array)\n",
    "tangent = np.tan(np.pi / array)\n",
    "\n",
    "print(cosine)\n",
    "print(\"----- \\n\")\n",
    "print(sine)\n",
    "print(\"----- \\n\")\n",
    "print(tangent)"
   ],
   "id": "73dd00f8cede2a21",
   "outputs": [
    {
     "name": "stdout",
     "output_type": "stream",
     "text": [
      "[[0.99999507 1.        ]\n",
      " [1.         1.        ]]\n",
      "----- \n",
      "\n",
      "[[-3.21416646e-13 -9.95262376e-01]\n",
      " [ 8.70381533e-01 -2.23936276e-06]]\n",
      "----- \n",
      "\n",
      "[[3.14160299e-03 1.45819814e-05]\n",
      " [6.76835619e-08 3.14159265e-10]]\n"
     ]
    }
   ],
   "execution_count": 14
  },
  {
   "metadata": {
    "ExecuteTime": {
     "end_time": "2025-02-02T21:53:11.083828Z",
     "start_time": "2025-02-02T21:53:11.071761Z"
    }
   },
   "cell_type": "code",
   "source": [
    "sqrt = np.sqrt(array)\n",
    "a = np.log(array)\n",
    "b = np.log2(array)\n",
    "c = np.log10(array)\n",
    "print(\"----- \\n\")\n",
    "print(sqrt)\n",
    "print(\"----- \\n\")\n",
    "print(a)\n",
    "print(\"----- \\n\")\n",
    "print(b)\n",
    "print(\"----- \\n\")\n",
    "print(c)"
   ],
   "id": "344faf1bc66f35f7",
   "outputs": [
    {
     "name": "stdout",
     "output_type": "stream",
     "text": [
      "----- \n",
      "\n",
      "[[3.16227766e+01 4.64158883e+02]\n",
      " [6.81292069e+03 1.00000000e+05]]\n",
      "----- \n",
      "\n",
      "[[ 6.90775528 12.28045383]\n",
      " [17.65315238 23.02585093]]\n",
      "----- \n",
      "\n",
      "[[ 9.96578428 17.71694984]\n",
      " [25.46811539 33.21928095]]\n",
      "----- \n",
      "\n",
      "[[ 3.          5.33333333]\n",
      " [ 7.66666667 10.        ]]\n"
     ]
    }
   ],
   "execution_count": 18
  },
  {
   "metadata": {},
   "cell_type": "code",
   "source": "",
   "id": "ff531d90f58f762a",
   "outputs": [],
   "execution_count": null
  }
 ],
 "metadata": {
  "kernelspec": {
   "display_name": "Python 3",
   "language": "python",
   "name": "python3"
  },
  "language_info": {
   "codemirror_mode": {
    "name": "ipython",
    "version": 2
   },
   "file_extension": ".py",
   "mimetype": "text/x-python",
   "name": "python",
   "nbconvert_exporter": "python",
   "pygments_lexer": "ipython2",
   "version": "2.7.6"
  }
 },
 "nbformat": 4,
 "nbformat_minor": 5
}
