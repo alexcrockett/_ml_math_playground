{
 "cells": [
  {
   "cell_type": "code",
   "id": "initial_id",
   "metadata": {
    "collapsed": true,
    "ExecuteTime": {
     "end_time": "2025-02-02T20:51:39.100020Z",
     "start_time": "2025-02-02T20:51:38.985411Z"
    }
   },
   "source": "import numpy as np",
   "outputs": [],
   "execution_count": 1
  },
  {
   "metadata": {
    "ExecuteTime": {
     "end_time": "2025-02-02T20:55:45.690238Z",
     "start_time": "2025-02-02T20:55:45.681912Z"
    }
   },
   "cell_type": "code",
   "source": [
    "# First let's create a couple arrays we can work with\n",
    "\n",
    "x = np.array([[1, 2, 3], [4, 5, 6], [7, 8, 9]])\n",
    "y = np.array([[2, 2, 2], [3, 3, 3], [4, 4, 4]])"
   ],
   "id": "ae27ca2dd67d94ac",
   "outputs": [],
   "execution_count": 2
  },
  {
   "metadata": {
    "ExecuteTime": {
     "end_time": "2025-02-02T21:00:19.638134Z",
     "start_time": "2025-02-02T21:00:19.624246Z"
    }
   },
   "cell_type": "code",
   "source": [
    "# Addition and subtraction\n",
    "\n",
    "addition = np.add(x, y)\n",
    "subtraction = np.subtract(x, y)\n",
    "\n",
    "addition_alt = x + y\n",
    "subtraction_alt = x - y\n",
    "\n",
    "print(\"Addition: \\n\", addition, \"\\n\", \"Addition_alt \\n\", addition_alt, \"\\n\", \"Subtraction: \\n\",  subtraction, \"\\n\", \"Subtraction_alt: \\n\", subtraction_alt)"
   ],
   "id": "422c2be8a2a57f41",
   "outputs": [
    {
     "name": "stdout",
     "output_type": "stream",
     "text": [
      "Addition: \n",
      " [[ 3  4  5]\n",
      " [ 7  8  9]\n",
      " [11 12 13]] \n",
      " Addition_alt \n",
      " [[ 3  4  5]\n",
      " [ 7  8  9]\n",
      " [11 12 13]] \n",
      " Subtraction: \n",
      " [[-1  0  1]\n",
      " [ 1  2  3]\n",
      " [ 3  4  5]] \n",
      " Subtraction_alt: \n",
      " [[-1  0  1]\n",
      " [ 1  2  3]\n",
      " [ 3  4  5]]\n"
     ]
    }
   ],
   "execution_count": 4
  },
  {
   "metadata": {
    "ExecuteTime": {
     "end_time": "2025-02-02T21:03:56.770478Z",
     "start_time": "2025-02-02T21:03:56.756269Z"
    }
   },
   "cell_type": "code",
   "source": [
    "# Multiplication, division and powers\n",
    "print(\"Multiplication\")\n",
    "print(x * 2)\n",
    "print(\"\\n\")\n",
    "\n",
    "print(\"Powers\")\n",
    "print(x ** 2)\n",
    "print(\"\\n\")\n",
    "\n",
    "print(\"Division\")\n",
    "print(x / 2)\n",
    "print(\"\\n\")"
   ],
   "id": "5f810db025fc005d",
   "outputs": [
    {
     "name": "stdout",
     "output_type": "stream",
     "text": [
      "Multiplication\n",
      "[[ 2  4  6]\n",
      " [ 8 10 12]\n",
      " [14 16 18]]\n",
      "\n",
      "\n",
      "Powers\n",
      "[[ 1  4  9]\n",
      " [16 25 36]\n",
      " [49 64 81]]\n",
      "\n",
      "\n",
      "Division\n",
      "[[0.5 1.  1.5]\n",
      " [2.  2.5 3. ]\n",
      " [3.5 4.  4.5]]\n",
      "\n",
      "\n"
     ]
    }
   ],
   "execution_count": 5
  },
  {
   "metadata": {},
   "cell_type": "code",
   "outputs": [],
   "execution_count": null,
   "source": "",
   "id": "5e57e518a38ed08a"
  }
 ],
 "metadata": {
  "kernelspec": {
   "display_name": "Python 3",
   "language": "python",
   "name": "python3"
  },
  "language_info": {
   "codemirror_mode": {
    "name": "ipython",
    "version": 2
   },
   "file_extension": ".py",
   "mimetype": "text/x-python",
   "name": "python",
   "nbconvert_exporter": "python",
   "pygments_lexer": "ipython2",
   "version": "2.7.6"
  }
 },
 "nbformat": 4,
 "nbformat_minor": 5
}
