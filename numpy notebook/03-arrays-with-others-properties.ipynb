{
 "cells": [
  {
   "metadata": {},
   "cell_type": "markdown",
   "source": "In this file, we define an array and then use its properties to create other arrays",
   "id": "6831b77d51eb2172"
  },
  {
   "cell_type": "code",
   "id": "initial_id",
   "metadata": {
    "collapsed": true,
    "ExecuteTime": {
     "end_time": "2024-11-17T06:42:03.968619Z",
     "start_time": "2024-11-17T06:42:03.963351Z"
    }
   },
   "source": [
    "import numpy as np\n",
    "\n",
    "first_array = np.empty(4)\n",
    "first_array\n"
   ],
   "outputs": [
    {
     "data": {
      "text/plain": [
       "array([2.12199579e-314, 1.33897934e-311, 7.90505033e-321, 6.95187041e-310])"
      ]
     },
     "execution_count": 4,
     "metadata": {},
     "output_type": "execute_result"
    }
   ],
   "execution_count": 4
  },
  {
   "metadata": {
    "ExecuteTime": {
     "end_time": "2024-11-17T06:45:22.286001Z",
     "start_time": "2024-11-17T06:45:22.279488Z"
    }
   },
   "cell_type": "code",
   "source": [
    "second_array = np.empty_like(first_array)\n",
    "second_array"
   ],
   "id": "f5d4a5f6ef40ee5e",
   "outputs": [
    {
     "data": {
      "text/plain": [
       "array([2.12199579e-314, 1.33897934e-311, 7.90505033e-321, 6.95187041e-310])"
      ]
     },
     "execution_count": 8,
     "metadata": {},
     "output_type": "execute_result"
    }
   ],
   "execution_count": 8
  },
  {
   "metadata": {
    "ExecuteTime": {
     "end_time": "2024-11-17T06:46:02.566869Z",
     "start_time": "2024-11-17T06:46:02.560436Z"
    }
   },
   "cell_type": "code",
   "source": [
    "third_array = np.ones_like(first_array)\n",
    "third_array"
   ],
   "id": "fde559caf6b5a36b",
   "outputs": [
    {
     "data": {
      "text/plain": [
       "array([1., 1., 1., 1.])"
      ]
     },
     "execution_count": 9,
     "metadata": {},
     "output_type": "execute_result"
    }
   ],
   "execution_count": 9
  },
  {
   "metadata": {
    "ExecuteTime": {
     "end_time": "2024-11-17T06:46:25.348252Z",
     "start_time": "2024-11-17T06:46:25.342117Z"
    }
   },
   "cell_type": "code",
   "source": [
    "fourth_array = np.zeros_like(first_array)\n",
    "fourth_array"
   ],
   "id": "a42f9d01fc2337f9",
   "outputs": [
    {
     "data": {
      "text/plain": [
       "array([0., 0., 0., 0.])"
      ]
     },
     "execution_count": 10,
     "metadata": {},
     "output_type": "execute_result"
    }
   ],
   "execution_count": 10
  },
  {
   "metadata": {
    "ExecuteTime": {
     "end_time": "2024-11-17T06:48:17.253508Z",
     "start_time": "2024-11-17T06:48:17.247952Z"
    }
   },
   "cell_type": "code",
   "source": [
    "fifth_array = np.full_like(first_array, 5)\n",
    "fifth_array"
   ],
   "id": "258ce77172fa390",
   "outputs": [
    {
     "data": {
      "text/plain": [
       "array([5., 5., 5., 5.])"
      ]
     },
     "execution_count": 11,
     "metadata": {},
     "output_type": "execute_result"
    }
   ],
   "execution_count": 11
  },
  {
   "metadata": {
    "ExecuteTime": {
     "end_time": "2024-11-17T06:51:00.699463Z",
     "start_time": "2024-11-17T06:51:00.691539Z"
    }
   },
   "cell_type": "code",
   "source": [
    "sixth_array = np.stack((first_array, second_array, third_array, fifth_array, fifth_array))\n",
    "sixth_array"
   ],
   "id": "d926d912b9c6ad4f",
   "outputs": [
    {
     "data": {
      "text/plain": [
       "array([[2.12199579e-314, 1.33897934e-311, 7.90505033e-321,\n",
       "        6.95187041e-310],\n",
       "       [2.12199579e-314, 1.33897934e-311, 7.90505033e-321,\n",
       "        6.95187041e-310],\n",
       "       [1.00000000e+000, 1.00000000e+000, 1.00000000e+000,\n",
       "        1.00000000e+000],\n",
       "       [5.00000000e+000, 5.00000000e+000, 5.00000000e+000,\n",
       "        5.00000000e+000],\n",
       "       [5.00000000e+000, 5.00000000e+000, 5.00000000e+000,\n",
       "        5.00000000e+000]])"
      ]
     },
     "execution_count": 13,
     "metadata": {},
     "output_type": "execute_result"
    }
   ],
   "execution_count": 13
  },
  {
   "metadata": {
    "ExecuteTime": {
     "end_time": "2024-11-17T06:51:51.676928Z",
     "start_time": "2024-11-17T06:51:51.669917Z"
    }
   },
   "cell_type": "code",
   "source": [
    "seventh_array = np.full_like(sixth_array, 32.8)\n",
    "seventh_array"
   ],
   "id": "26d8b4ff87984357",
   "outputs": [
    {
     "data": {
      "text/plain": [
       "array([[32.8, 32.8, 32.8, 32.8],\n",
       "       [32.8, 32.8, 32.8, 32.8],\n",
       "       [32.8, 32.8, 32.8, 32.8],\n",
       "       [32.8, 32.8, 32.8, 32.8],\n",
       "       [32.8, 32.8, 32.8, 32.8]])"
      ]
     },
     "execution_count": 15,
     "metadata": {},
     "output_type": "execute_result"
    }
   ],
   "execution_count": 15
  },
  {
   "metadata": {},
   "cell_type": "code",
   "outputs": [],
   "execution_count": null,
   "source": "",
   "id": "dd49ad53dc146e1a"
  }
 ],
 "metadata": {
  "kernelspec": {
   "display_name": "Python 3",
   "language": "python",
   "name": "python3"
  },
  "language_info": {
   "codemirror_mode": {
    "name": "ipython",
    "version": 2
   },
   "file_extension": ".py",
   "mimetype": "text/x-python",
   "name": "python",
   "nbconvert_exporter": "python",
   "pygments_lexer": "ipython2",
   "version": "2.7.6"
  }
 },
 "nbformat": 4,
 "nbformat_minor": 5
}
