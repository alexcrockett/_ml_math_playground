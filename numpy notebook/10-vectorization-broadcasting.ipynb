{
 "cells": [
  {
   "cell_type": "code",
   "id": "initial_id",
   "metadata": {
    "collapsed": true,
    "ExecuteTime": {
     "end_time": "2025-01-13T06:13:44.668520Z",
     "start_time": "2025-01-13T06:13:44.541808Z"
    }
   },
   "source": "import numpy as np",
   "outputs": [],
   "execution_count": 1
  },
  {
   "metadata": {
    "ExecuteTime": {
     "end_time": "2025-01-13T06:19:15.877083Z",
     "start_time": "2025-01-13T06:19:15.871344Z"
    }
   },
   "cell_type": "code",
   "source": [
    "new_ray = np.array([[1, 2, 3], [4, 5, 6], [7, 8, 9]])\n",
    "h_ray = np.array([4, 5, 6])\n",
    "v_ray = np.array([[4], [5], [6]])\n",
    "print(h_ray)\n",
    "print(v_ray)"
   ],
   "id": "d29af23e07fdd4a4",
   "outputs": [
    {
     "name": "stdout",
     "output_type": "stream",
     "text": [
      "[4 5 6]\n",
      "[[4]\n",
      " [5]\n",
      " [6]]\n"
     ]
    }
   ],
   "execution_count": 4
  },
  {
   "metadata": {
    "ExecuteTime": {
     "end_time": "2025-01-13T06:20:05.157672Z",
     "start_time": "2025-01-13T06:20:05.152634Z"
    }
   },
   "cell_type": "code",
   "source": [
    "b_cast_1 = new_ray + v_ray\n",
    "b_cast_2 = new_ray + h_ray\n",
    "print(b_cast_1)\n",
    "print(\" \")\n",
    "print(b_cast_2)"
   ],
   "id": "bad0cc444cf3be48",
   "outputs": [
    {
     "name": "stdout",
     "output_type": "stream",
     "text": [
      "[[ 5  6  7]\n",
      " [ 9 10 11]\n",
      " [13 14 15]]\n",
      " \n",
      "[[ 5  7  9]\n",
      " [ 8 10 12]\n",
      " [11 13 15]]\n"
     ]
    }
   ],
   "execution_count": 6
  },
  {
   "metadata": {},
   "cell_type": "code",
   "outputs": [],
   "execution_count": null,
   "source": "",
   "id": "b40f2573937087ac"
  }
 ],
 "metadata": {
  "kernelspec": {
   "display_name": "Python 3",
   "language": "python",
   "name": "python3"
  },
  "language_info": {
   "codemirror_mode": {
    "name": "ipython",
    "version": 2
   },
   "file_extension": ".py",
   "mimetype": "text/x-python",
   "name": "python",
   "nbconvert_exporter": "python",
   "pygments_lexer": "ipython2",
   "version": "2.7.6"
  }
 },
 "nbformat": 4,
 "nbformat_minor": 5
}
