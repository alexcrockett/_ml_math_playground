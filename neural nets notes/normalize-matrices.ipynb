{
 "cells": [
  {
   "cell_type": "code",
   "id": "initial_id",
   "metadata": {
    "collapsed": true,
    "ExecuteTime": {
     "end_time": "2024-11-18T07:09:11.623351Z",
     "start_time": "2024-11-18T07:09:11.617218Z"
    }
   },
   "source": "import numpy as np",
   "outputs": [],
   "execution_count": 51
  },
  {
   "metadata": {
    "ExecuteTime": {
     "end_time": "2024-11-18T07:09:11.669204Z",
     "start_time": "2024-11-18T07:09:11.651469Z"
    }
   },
   "cell_type": "code",
   "source": [
    "# Here we are going to compute the L2 norm of the vector, i.e. the Euclidean distance\n",
    "\n",
    "# Create the vector (as a 1D array!)\n",
    "array_to_normalize = np.arange(1, 5, 1).astype(np.float64)\n",
    "\n",
    "# Check the vector\n",
    "print(\"Original vector:\", array_to_normalize)\n",
    "\n",
    "# Compute the magnitude of the vector\n",
    "magnitude = np.linalg.norm(array_to_normalize)\n",
    "\n",
    "# Check the magnitude\n",
    "print(\"Magnitude:\", magnitude)\n",
    "\n",
    "# Compute the normalized vector (the norm)\n",
    "norm = array_to_normalize / magnitude\n",
    "print(\"Normalized vector:\", norm)\n",
    "\n",
    "# Check the math is correct - converting to a list\n",
    "validate_check = norm.tolist()  # Convert the array to a list\n",
    "print(\"Converted to list:\", validate_check)  # Check the list\n",
    "print(\"Type:\", type(validate_check))\n",
    "\n",
    "# Access individual elements\n",
    "value_a = validate_check[0]\n",
    "value_b = validate_check[1]\n",
    "value_c = validate_check[2]\n",
    "value_d = validate_check[3]\n",
    "print(\"First value:\", value_a)\n",
    "print(\"Second value:\", value_b)\n",
    "print(\"Third value:\", value_c)\n",
    "print(\"Fourth value:\", value_d)\n",
    "\n",
    "# Add them together\n",
    "total_value = value_a + value_b + value_c + value_d\n",
    "print(\"Total value:\", total_value)\n",
    "print(sum(validate_check))  # Just to show another way of doing the same thing\n"
   ],
   "id": "efd44ee8ed11bc65",
   "outputs": [
    {
     "name": "stdout",
     "output_type": "stream",
     "text": [
      "Original vector: [1. 2. 3. 4.]\n",
      "Magnitude: 5.477225575051661\n",
      "Normalized vector: [0.18257419 0.36514837 0.54772256 0.73029674]\n",
      "Converted to list: [0.18257418583505536, 0.3651483716701107, 0.5477225575051661, 0.7302967433402214]\n",
      "Type: <class 'list'>\n",
      "First value: 0.18257418583505536\n",
      "Second value: 0.3651483716701107\n",
      "Third value: 0.5477225575051661\n",
      "Fourth value: 0.7302967433402214\n",
      "Total value: 1.8257418583505536\n",
      "1.8257418583505536\n"
     ]
    }
   ],
   "execution_count": 52
  },
  {
   "metadata": {},
   "cell_type": "markdown",
   "source": "This adds up to more than 1, however, the math is correct and the operation was done correctly for the L2 norm. Next we will compute the L1 norm of the same vector. This is useful where we are trying to preserve the direction of the vector, preserving direction over component wise differences.\n",
   "id": "53e9efe008115862"
  },
  {
   "metadata": {
    "ExecuteTime": {
     "end_time": "2024-11-18T07:09:11.824397Z",
     "start_time": "2024-11-18T07:09:11.788700Z"
    }
   },
   "cell_type": "code",
   "source": [
    "# The L1 norm\n",
    "\n",
    "# Method 1, with np.linalg.norm()\n",
    "\n",
    "# Calculate the L1 norm\n",
    "_norm1 = np.linalg.norm(array_to_normalize, ord=1)\n",
    "\n",
    "# Print the norm\n",
    "print(\"The array's norm: \",_norm1)\n",
    "\n",
    "# Calculate the new values of the array\n",
    "l1_norm1 = array_to_normalize / _norm1\n",
    "\n",
    "# Print the normalized array to check it\n",
    "print(\"L1 Norm array:\", l1_norm1)\n",
    "\n",
    "# Check our math\n",
    "print(\"The sum of the normalized array's values: \", sum(l1_norm1.tolist()))\n",
    "\n",
    "# Method 2, manually compute it\n",
    "_norm_manual = np.sum(np.abs(array_to_normalize))  # Notice we are using the np.abs to get absolute values\n",
    "\n",
    "# Check the norm is correct\n",
    "print(\"L1 Norm:\", _norm_manual)\n",
    "\n",
    "# Now let's calculate the new array\n",
    "l1_norm_manual = array_to_normalize / _norm_manual\n",
    "\n",
    "# Check the array\n",
    "print(\"L1 Norm Manual:\", l1_norm_manual)\n",
    "\n",
    "# As before, check the math\n",
    "print(\"The sum of the normalized array's values: \", sum(l1_norm_manual.tolist()))\n"
   ],
   "id": "230071a8500a5b55",
   "outputs": [
    {
     "name": "stdout",
     "output_type": "stream",
     "text": [
      "The array's norm:  10.0\n",
      "L1 Norm array: [0.1 0.2 0.3 0.4]\n",
      "The sum of the normalized array's values:  1.0\n",
      "L1 Norm: 10.0\n",
      "L1 Norm Manual: [0.1 0.2 0.3 0.4]\n",
      "The sum of the normalized array's values:  1.0\n"
     ]
    }
   ],
   "execution_count": 53
  },
  {
   "metadata": {
    "ExecuteTime": {
     "end_time": "2024-11-18T07:09:12.077636Z",
     "start_time": "2024-11-18T07:09:12.060101Z"
    }
   },
   "cell_type": "code",
   "source": [
    "# Now we will compute the norm of a matrix\n",
    "# This will be especially useful when building deep learning suds\n",
    "\n",
    "# Create a 3 x 3 matrix\n",
    "new_array = np.arange(0, 60, 6).reshape(5,2)\n",
    "\n",
    "# Check the array\n",
    "print(\"The matrix we will work with: \\n\", new_array)\n",
    "\n",
    "# Now we will normalize the rows\n",
    "\n",
    "# First, import the library we need\n",
    "from sklearn.preprocessing import normalize\n",
    "\n",
    "# We now normalize the matrix by rows\n",
    "normal_matrix = normalize(new_array, axis=1, norm='l1')  # Notice that we are computing the L1 norm\n",
    "\n",
    "# Check the matrix \n",
    "print(\"Our L1 normalized matrix\\n\", normal_matrix)"
   ],
   "id": "fdd3a055dbb60dc3",
   "outputs": [
    {
     "name": "stdout",
     "output_type": "stream",
     "text": [
      "The matrix we will work with: \n",
      " [[ 0  6]\n",
      " [12 18]\n",
      " [24 30]\n",
      " [36 42]\n",
      " [48 54]]\n",
      "Our L1 normalized matrix\n",
      " [[0.         1.        ]\n",
      " [0.4        0.6       ]\n",
      " [0.44444444 0.55555556]\n",
      " [0.46153846 0.53846154]\n",
      " [0.47058824 0.52941176]]\n"
     ]
    }
   ],
   "execution_count": 54
  },
  {
   "metadata": {
    "ExecuteTime": {
     "end_time": "2024-11-18T07:09:12.157479Z",
     "start_time": "2024-11-18T07:09:12.151029Z"
    }
   },
   "cell_type": "code",
   "source": "",
   "id": "da4f146360d56fcd",
   "outputs": [],
   "execution_count": null
  }
 ],
 "metadata": {
  "kernelspec": {
   "display_name": "Python 3",
   "language": "python",
   "name": "python3"
  },
  "language_info": {
   "codemirror_mode": {
    "name": "ipython",
    "version": 2
   },
   "file_extension": ".py",
   "mimetype": "text/x-python",
   "name": "python",
   "nbconvert_exporter": "python",
   "pygments_lexer": "ipython2",
   "version": "2.7.6"
  }
 },
 "nbformat": 4,
 "nbformat_minor": 5
}
