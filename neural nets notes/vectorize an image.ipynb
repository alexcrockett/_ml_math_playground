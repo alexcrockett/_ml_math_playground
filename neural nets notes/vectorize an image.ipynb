{
 "cells": [
  {
   "cell_type": "code",
   "id": "initial_id",
   "metadata": {
    "collapsed": true,
    "ExecuteTime": {
     "end_time": "2024-11-14T21:05:21.720934Z",
     "start_time": "2024-11-14T21:05:21.320349Z"
    }
   },
   "source": [
    "import numpy as np\n",
    "from PIL import Image\n",
    "\n",
    "# Open the image\n",
    "image = Image.open(\"C:/Users/alexa/Documents/Code/coursera NN/images/Me.JPG\")\n",
    "\n",
    "# Convert the image to a NumPy array\n",
    "image_array = np.array(image)\n",
    "\n",
    "# Now, image_array is a 3D NumPy array representing the image\n",
    "# (height, width, color channels)\n",
    "print(image_array.shape)"
   ],
   "outputs": [
    {
     "name": "stdout",
     "output_type": "stream",
     "text": [
      "(3780, 3024, 3)\n"
     ]
    }
   ],
   "execution_count": 1
  },
  {
   "metadata": {
    "ExecuteTime": {
     "end_time": "2024-11-14T21:08:56.539666Z",
     "start_time": "2024-11-14T21:08:56.534556Z"
    }
   },
   "cell_type": "code",
   "source": [
    "\"\"\"Accessing Pixel Values:\n",
    "You can access individual pixel values using array indexing:\n",
    "row: The row index of the pixel (starting from 0).\n",
    "column: The column index of the pixel (starting from 0).\n",
    "channel: The color channel (0 for Red, 1 for Green, 2 for Blue).\"\"\"\n",
    "\n",
    "pixel_value = image_array[1, 1, 0]\n",
    "print(pixel_value)"
   ],
   "id": "ab45824cdf2fef48",
   "outputs": [
    {
     "name": "stdout",
     "output_type": "stream",
     "text": [
      "9\n"
     ]
    }
   ],
   "execution_count": 2
  },
  {
   "metadata": {},
   "cell_type": "code",
   "outputs": [],
   "execution_count": null,
   "source": "",
   "id": "1287425d7be98e62"
  }
 ],
 "metadata": {
  "kernelspec": {
   "display_name": "Python 3",
   "language": "python",
   "name": "python3"
  },
  "language_info": {
   "codemirror_mode": {
    "name": "ipython",
    "version": 2
   },
   "file_extension": ".py",
   "mimetype": "text/x-python",
   "name": "python",
   "nbconvert_exporter": "python",
   "pygments_lexer": "ipython2",
   "version": "2.7.6"
  }
 },
 "nbformat": 4,
 "nbformat_minor": 5
}
