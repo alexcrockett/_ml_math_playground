{
 "cells": [
  {
   "cell_type": "code",
   "id": "initial_id",
   "metadata": {
    "collapsed": true,
    "ExecuteTime": {
     "end_time": "2024-11-14T21:33:48.145129Z",
     "start_time": "2024-11-14T21:33:47.810954Z"
    }
   },
   "source": [
    "# For some image we will want to vectorize it\n",
    "import numpy as np\n",
    "from PIL import Image\n",
    "\n",
    "# Open the image\n",
    "image = Image.open(\"C:/Users/alexa/Documents/Code/coursera NN/images/Me.JPG\")\n",
    "\n",
    "# Convert the image to a NumPy array\n",
    "image_array = np.array(image)\n",
    "\n",
    "# Now, image_array is a 3D NumPy array representing the image\n",
    "# (height, width, color channels)\n",
    "print(image_array.shape)"
   ],
   "outputs": [
    {
     "name": "stdout",
     "output_type": "stream",
     "text": [
      "(3780, 3024, 3)\n"
     ]
    }
   ],
   "execution_count": 1
  },
  {
   "metadata": {
    "ExecuteTime": {
     "end_time": "2024-11-14T21:37:38.878025Z",
     "start_time": "2024-11-14T21:37:38.872954Z"
    }
   },
   "cell_type": "code",
   "source": [
    "# For training example x in X, with m examples, we want an N_x x m shaped array\n",
    "# First we need to flatten the arrays\n",
    "new_array = image_array.reshape(-1) \n",
    "print(new_array.shape)"
   ],
   "id": "3e340d734843c904",
   "outputs": [
    {
     "name": "stdout",
     "output_type": "stream",
     "text": [
      "(34292160,)\n"
     ]
    }
   ],
   "execution_count": 3
  },
  {
   "metadata": {
    "ExecuteTime": {
     "end_time": "2024-11-14T21:57:36.564977Z",
     "start_time": "2024-11-14T21:57:36.387652Z"
    }
   },
   "cell_type": "code",
   "source": [
    "# We will then need to stack the arrays into a new matrix\n",
    "\n",
    "# Create a second array and flatten to have another array to stack\n",
    "second_image = Image.open(\"C:/Users/alexa/Documents/Code/coursera NN/images/Me.JPG\")\n",
    "second_array = np.array(second_image)\n",
    "second_new_array = second_array.reshape(-1)\n",
    "\n",
    "print(\"Starting shape and dimensions\")\n",
    "print(second_new_array.ndim)\n",
    "print(second_new_array.shape)\n",
    "\n",
    "# Now we join by stacking (not concatenate)\n",
    "X = np.stack((new_array, second_new_array))\n",
    "\n",
    "# Next transpose to get a new shape\n",
    "XT = np.transpose(X)\n",
    "\n",
    "# Printing the results we have\n",
    "print(\"x dimensions= \", X.ndim)\n",
    "print(\"X shape= \", X.shape)\n",
    "print(\"xT dimensions= \", XT.ndim)\n",
    "print(\"XT shape= \", XT.shape) "
   ],
   "id": "2d5b534f6dc8b819",
   "outputs": [
    {
     "name": "stdout",
     "output_type": "stream",
     "text": [
      "Starting shape and dimensions\n",
      "1\n",
      "(34292160,)\n",
      "x dimensions=  2\n",
      "X shape=  (2, 34292160)\n",
      "xT dimensions=  2\n",
      "XT shape=  (34292160, 2)\n"
     ]
    }
   ],
   "execution_count": 25
  },
  {
   "metadata": {},
   "cell_type": "code",
   "outputs": [],
   "execution_count": null,
   "source": "",
   "id": "f5dbe38dbc94559c"
  }
 ],
 "metadata": {
  "kernelspec": {
   "display_name": "Python 3",
   "language": "python",
   "name": "python3"
  },
  "language_info": {
   "codemirror_mode": {
    "name": "ipython",
    "version": 2
   },
   "file_extension": ".py",
   "mimetype": "text/x-python",
   "name": "python",
   "nbconvert_exporter": "python",
   "pygments_lexer": "ipython2",
   "version": "2.7.6"
  }
 },
 "nbformat": 4,
 "nbformat_minor": 5
}
