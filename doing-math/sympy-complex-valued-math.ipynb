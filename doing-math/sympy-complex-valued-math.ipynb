{
 "cells": [
  {
   "metadata": {
    "ExecuteTime": {
     "end_time": "2024-11-26T08:34:35.417262Z",
     "start_time": "2024-11-26T08:34:35.386507Z"
    }
   },
   "cell_type": "code",
   "source": [
    "import sympy\n",
    "x, y = sympy.symbols('x y')\n",
    "function = x ** 2 + 2 * y ** 2\n",
    "\n",
    "# Define a complex number using sympy.I for the imaginary unit\n",
    "z = sympy.Add(sympy.re(function), sympy.I * sympy.im(function))\n",
    "\n",
    "# Simplify the real and imaginary parts\n",
    "real_part = sympy.re(z)\n",
    "imag_part = sympy.im(z)\n",
    "\n",
    "print(real_part)\n",
    "print(imag_part)\n"
   ],
   "id": "9e2437baf094a665",
   "outputs": [
    {
     "name": "stdout",
     "output_type": "stream",
     "text": [
      "re(x)**2 + 2*re(y)**2 - im(x)**2 - 2*im(y)**2\n",
      "2*re(x)*im(x) + 4*re(y)*im(y)\n"
     ]
    }
   ],
   "execution_count": 14
  },
  {
   "metadata": {
    "ExecuteTime": {
     "end_time": "2024-11-26T08:36:34.484672Z",
     "start_time": "2024-11-26T08:36:34.478954Z"
    }
   },
   "cell_type": "code",
   "source": [
    "diff_x = Derivative(z, x)\n",
    "print(diff_x)"
   ],
   "id": "ea5b151c26beb09b",
   "outputs": [
    {
     "name": "stdout",
     "output_type": "stream",
     "text": [
      "Derivative(I*(2*re(x)*im(x) + 4*re(y)*im(y)) + re(x)**2 + 2*re(y)**2 - im(x)**2 - 2*im(y)**2, x)\n"
     ]
    }
   ],
   "execution_count": 16
  },
  {
   "metadata": {},
   "cell_type": "code",
   "outputs": [],
   "execution_count": null,
   "source": "",
   "id": "1e365e3e9a745b9f"
  }
 ],
 "metadata": {
  "kernelspec": {
   "display_name": "Python 3",
   "language": "python",
   "name": "python3"
  },
  "language_info": {
   "codemirror_mode": {
    "name": "ipython",
    "version": 2
   },
   "file_extension": ".py",
   "mimetype": "text/x-python",
   "name": "python",
   "nbconvert_exporter": "python",
   "pygments_lexer": "ipython2",
   "version": "2.7.6"
  }
 },
 "nbformat": 4,
 "nbformat_minor": 5
}
