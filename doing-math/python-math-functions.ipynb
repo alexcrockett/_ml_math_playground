{
 "cells": [
  {
   "metadata": {},
   "cell_type": "markdown",
   "source": "Just messing around with Python's math module.",
   "id": "97079dcc7d2ee688"
  },
  {
   "cell_type": "code",
   "id": "initial_id",
   "metadata": {
    "collapsed": true,
    "ExecuteTime": {
     "end_time": "2025-01-04T00:34:56.615442Z",
     "start_time": "2025-01-04T00:34:56.610763Z"
    }
   },
   "source": [
    "import math\n",
    "import numpy as np"
   ],
   "outputs": [],
   "execution_count": 3
  },
  {
   "metadata": {
    "ExecuteTime": {
     "end_time": "2025-01-04T00:36:27.280636Z",
     "start_time": "2025-01-04T00:36:27.273933Z"
    }
   },
   "cell_type": "code",
   "source": [
    "# Select a random number\n",
    "choose = np.random.choice(100)\n",
    "\n",
    "# Select b (20) random numbers within a (100)\n",
    "choose_w_args = np.random.choice(100, 20)\n",
    "print(choose)\n",
    "print(choose_w_args)"
   ],
   "id": "da8afe5984130e01",
   "outputs": [
    {
     "name": "stdout",
     "output_type": "stream",
     "text": [
      "35\n",
      "[66 91 86 28 40 49 70 91 84 23 34 36 80 21 58 22 96 15 94  6]\n"
     ]
    }
   ],
   "execution_count": 11
  },
  {
   "metadata": {
    "ExecuteTime": {
     "end_time": "2025-01-04T00:34:56.719026Z",
     "start_time": "2025-01-04T00:34:56.714862Z"
    }
   },
   "cell_type": "code",
   "source": [
    "# N Choose K with order\n",
    "choose_ = math.perm(10, 5)\n",
    "print(choose_)"
   ],
   "id": "6e1a6f612d4f9c51",
   "outputs": [
    {
     "name": "stdout",
     "output_type": "stream",
     "text": [
      "30240\n"
     ]
    }
   ],
   "execution_count": 5
  },
  {
   "metadata": {
    "ExecuteTime": {
     "end_time": "2025-01-04T00:34:56.829066Z",
     "start_time": "2025-01-04T00:34:56.824502Z"
    }
   },
   "cell_type": "code",
   "source": [
    "# N Choose K combinations without order\n",
    "n_choose_k = math.comb(10, 5)\n",
    "print(n_choose_k)"
   ],
   "id": "c60abb92d0def5c0",
   "outputs": [
    {
     "name": "stdout",
     "output_type": "stream",
     "text": [
      "252\n"
     ]
    }
   ],
   "execution_count": 6
  },
  {
   "metadata": {
    "ExecuteTime": {
     "end_time": "2025-01-04T00:34:56.889175Z",
     "start_time": "2025-01-04T00:34:56.880616Z"
    }
   },
   "cell_type": "code",
   "source": [
    "# Factorials\n",
    "math.factorial(25)"
   ],
   "id": "a5fe6313e6207c97",
   "outputs": [
    {
     "data": {
      "text/plain": [
       "15511210043330985984000000"
      ]
     },
     "execution_count": 7,
     "metadata": {},
     "output_type": "execute_result"
    }
   ],
   "execution_count": 7
  },
  {
   "metadata": {
    "ExecuteTime": {
     "end_time": "2025-01-04T00:34:56.937833Z",
     "start_time": "2025-01-04T00:34:56.930814Z"
    }
   },
   "cell_type": "code",
   "source": [
    "# Greatest common divisor\n",
    "math.gcd(12, 32)"
   ],
   "id": "588d73e4fc6e7d16",
   "outputs": [
    {
     "data": {
      "text/plain": [
       "4"
      ]
     },
     "execution_count": 8,
     "metadata": {},
     "output_type": "execute_result"
    }
   ],
   "execution_count": 8
  },
  {
   "metadata": {
    "ExecuteTime": {
     "end_time": "2025-01-04T00:35:15.139687Z",
     "start_time": "2025-01-04T00:35:15.133300Z"
    }
   },
   "cell_type": "code",
   "source": [
    "# Least common multiple of the arguments\n",
    "math.lcm(12, 32)"
   ],
   "id": "9a9afcf6c8e895f9",
   "outputs": [
    {
     "data": {
      "text/plain": [
       "96"
      ]
     },
     "execution_count": 10,
     "metadata": {},
     "output_type": "execute_result"
    }
   ],
   "execution_count": 10
  },
  {
   "metadata": {
    "ExecuteTime": {
     "end_time": "2025-01-04T00:38:57.144707Z",
     "start_time": "2025-01-04T00:38:57.140599Z"
    }
   },
   "cell_type": "code",
   "source": [
    "# Integer square root\n",
    "print(math.isqrt(67))\n",
    "\n",
    "# Actual square root\n",
    "print(math.sqrt(67))"
   ],
   "id": "c8d7a76fc09d6efb",
   "outputs": [
    {
     "name": "stdout",
     "output_type": "stream",
     "text": [
      "8\n",
      "8.18535277187245\n"
     ]
    }
   ],
   "execution_count": 13
  },
  {
   "metadata": {
    "ExecuteTime": {
     "end_time": "2025-01-04T00:40:23.717036Z",
     "start_time": "2025-01-04T00:40:23.711178Z"
    }
   },
   "cell_type": "code",
   "source": [
    "# Ceiling of x\n",
    "math.ceil(12)"
   ],
   "id": "fddf28ffeee4562c",
   "outputs": [
    {
     "data": {
      "text/plain": [
       "12"
      ]
     },
     "execution_count": 17,
     "metadata": {},
     "output_type": "execute_result"
    }
   ],
   "execution_count": 17
  },
  {
   "metadata": {
    "ExecuteTime": {
     "end_time": "2025-01-04T00:41:48.868860Z",
     "start_time": "2025-01-04T00:41:48.863027Z"
    }
   },
   "cell_type": "code",
   "source": [
    "# Absolute value\n",
    "math.fabs(-12)\n",
    "print(math.fabs(-12))\n",
    "\n",
    "np.abs(-12)\n",
    "print(np.abs(-12))"
   ],
   "id": "241a73ad0c5fb5fb",
   "outputs": [
    {
     "name": "stdout",
     "output_type": "stream",
     "text": [
      "12.0\n",
      "12\n"
     ]
    }
   ],
   "execution_count": 18
  },
  {
   "metadata": {},
   "cell_type": "code",
   "outputs": [],
   "execution_count": null,
   "source": "",
   "id": "3c180785db8af6ef"
  }
 ],
 "metadata": {
  "kernelspec": {
   "display_name": "Python 3",
   "language": "python",
   "name": "python3"
  },
  "language_info": {
   "codemirror_mode": {
    "name": "ipython",
    "version": 2
   },
   "file_extension": ".py",
   "mimetype": "text/x-python",
   "name": "python",
   "nbconvert_exporter": "python",
   "pygments_lexer": "ipython2",
   "version": "2.7.6"
  }
 },
 "nbformat": 4,
 "nbformat_minor": 5
}
