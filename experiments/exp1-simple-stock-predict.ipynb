{
 "cells": [
  {
   "metadata": {},
   "cell_type": "markdown",
   "source": [
    "For kicks, we're going to build a super simple neural network with only one layer.Structure\n",
    "- Import libraries and data\n",
    "- View shape\n",
    "- Identify stocks we want to highlight\n",
    "- These will be stocks that increase in value the next day\n",
    "- So 'high' higher than previous 'high'\n",
    "- Create a matrix of our training values\n",
    "- Define our parameters matrix\n",
    "- Pass data the data through activation function\n",
    "- Pass to Loss function\n",
    "- Back propagation"
   ],
   "id": "b876abaf531f5813"
  },
  {
   "metadata": {
    "ExecuteTime": {
     "end_time": "2024-12-01T05:44:11.456219Z",
     "start_time": "2024-12-01T05:44:11.338224Z"
    }
   },
   "cell_type": "code",
   "source": [
    "# First we import libraries and build arrays and tensors\n",
    "import pandas as pd  # To manage the initial dataframe\n",
    "import numpy as np  # Prec-process and organize the data\n",
    "import tensorflow as tf  # Build tensors\n",
    "import tensorflow.keras as keras  # Compute the activation and loss\n",
    "from keras import activations\n",
    "\n",
    "data_file = pd.read_csv('C:/Users/alexa/Documents/Code/Jupyter Playground/Apple Stocks/02-data/AppleStockPrices.csv')\n",
    "\n",
    "data_file.head()"
   ],
   "id": "ec2ae4636db845c2",
   "outputs": [
    {
     "data": {
      "text/plain": [
       "       Date    Open    High     Low   Close    Volume  Adj Close\n",
       "0  1/3/2011  325.64  330.26  324.84  329.57  15883600     329.57\n",
       "1  1/4/2011  332.44  332.50  328.15  331.29  11038600     331.29\n",
       "2  1/5/2011  329.55  334.34  329.50  334.00   9058700     334.00\n",
       "3  1/6/2011  334.72  335.25  332.90  333.73  10709500     333.73\n",
       "4  1/7/2011  333.99  336.35  331.90  336.12  11096800     336.12"
      ],
      "text/html": [
       "<div>\n",
       "<style scoped>\n",
       "    .dataframe tbody tr th:only-of-type {\n",
       "        vertical-align: middle;\n",
       "    }\n",
       "\n",
       "    .dataframe tbody tr th {\n",
       "        vertical-align: top;\n",
       "    }\n",
       "\n",
       "    .dataframe thead th {\n",
       "        text-align: right;\n",
       "    }\n",
       "</style>\n",
       "<table border=\"1\" class=\"dataframe\">\n",
       "  <thead>\n",
       "    <tr style=\"text-align: right;\">\n",
       "      <th></th>\n",
       "      <th>Date</th>\n",
       "      <th>Open</th>\n",
       "      <th>High</th>\n",
       "      <th>Low</th>\n",
       "      <th>Close</th>\n",
       "      <th>Volume</th>\n",
       "      <th>Adj Close</th>\n",
       "    </tr>\n",
       "  </thead>\n",
       "  <tbody>\n",
       "    <tr>\n",
       "      <th>0</th>\n",
       "      <td>1/3/2011</td>\n",
       "      <td>325.64</td>\n",
       "      <td>330.26</td>\n",
       "      <td>324.84</td>\n",
       "      <td>329.57</td>\n",
       "      <td>15883600</td>\n",
       "      <td>329.57</td>\n",
       "    </tr>\n",
       "    <tr>\n",
       "      <th>1</th>\n",
       "      <td>1/4/2011</td>\n",
       "      <td>332.44</td>\n",
       "      <td>332.50</td>\n",
       "      <td>328.15</td>\n",
       "      <td>331.29</td>\n",
       "      <td>11038600</td>\n",
       "      <td>331.29</td>\n",
       "    </tr>\n",
       "    <tr>\n",
       "      <th>2</th>\n",
       "      <td>1/5/2011</td>\n",
       "      <td>329.55</td>\n",
       "      <td>334.34</td>\n",
       "      <td>329.50</td>\n",
       "      <td>334.00</td>\n",
       "      <td>9058700</td>\n",
       "      <td>334.00</td>\n",
       "    </tr>\n",
       "    <tr>\n",
       "      <th>3</th>\n",
       "      <td>1/6/2011</td>\n",
       "      <td>334.72</td>\n",
       "      <td>335.25</td>\n",
       "      <td>332.90</td>\n",
       "      <td>333.73</td>\n",
       "      <td>10709500</td>\n",
       "      <td>333.73</td>\n",
       "    </tr>\n",
       "    <tr>\n",
       "      <th>4</th>\n",
       "      <td>1/7/2011</td>\n",
       "      <td>333.99</td>\n",
       "      <td>336.35</td>\n",
       "      <td>331.90</td>\n",
       "      <td>336.12</td>\n",
       "      <td>11096800</td>\n",
       "      <td>336.12</td>\n",
       "    </tr>\n",
       "  </tbody>\n",
       "</table>\n",
       "</div>"
      ]
     },
     "execution_count": 129,
     "metadata": {},
     "output_type": "execute_result"
    }
   ],
   "execution_count": 129
  },
  {
   "metadata": {},
   "cell_type": "markdown",
   "source": [
    "- We don't care about Date or Adj Close\n",
    "- We will seperate out all those values where the next day is higher\n",
    "- We will then have one set whose value after applying the sigmoid is 1\n",
    "- We will also have another set whose value after applying the sigmoid is 0"
   ],
   "id": "371480e74319a95c"
  },
  {
   "metadata": {
    "ExecuteTime": {
     "end_time": "2024-12-01T05:44:11.581118Z",
     "start_time": "2024-12-01T05:44:11.552536Z"
    }
   },
   "cell_type": "code",
   "source": [
    "# Here we build out the arrays and data structures that we need\n",
    "\n",
    "# Identify the data we care about\n",
    "wip_data = data_file[['Open', 'High', 'Low', 'Close', 'Volume']]  # The values we will use for the model\n",
    "\n",
    "# Build our labeled df\n",
    "High_stop = wip_data['High']  # Value we are testing against\n",
    "High_start = wip_data['High'].shift(periods=1)  # Starting value to be subtracted\n",
    "\n",
    "# Create a matrix with high subtracted from next days high\n",
    "labeled_df = High_stop - High_start  # Values we will label\n",
    "\n",
    "# We can then convert everything to numpy arrays to work with\n",
    "ml_data = wip_data.to_numpy()  # Our primary data to numpy\n",
    "ml_labels_wip = labeled_df.to_numpy()  # Our labels to numpy\n",
    "ml_labels = np.empty(34, dtype=float)  # An empty array for our final labeling\n",
    "\n",
    "# Convert the labels array into 0 and 1 labels\n",
    "ml_labels[ml_labels_wip < 1] = 0   # Label values losing value\n",
    "ml_labels[ml_labels_wip >= 1] = 1   # Label values gaining value\n",
    "\n",
    "# Now we will build the data to train on\n",
    "x_data_product = np.prod(ml_data, axis=1)  # Multiply rows in the main array so we have a single vector\n",
    "\n",
    "# Normalize the multiplied data (min-max normalization)\n",
    "min_val = np.min(x_data_product)  # Identify the smallest value\n",
    "max_val = np.max(x_data_product)  # Identify the largest value\n",
    "x = (x_data_product - min_val) / (max_val - min_val)  # Calculate the final normalized value\n",
    "\n",
    "# Create the weights of our array\n",
    "w = np.random.randn(len(x))  # Create a randomized set of weights for training\n",
    "\n",
    "# Weighted array\n",
    "ml_xw = x * w  # Multiply input values by weights (note that we're doing a row by row operation and not the dot product\n",
    "\n",
    "print(ml_labels.shape)\n",
    "print(ml_xw.shape)"
   ],
   "id": "a33f39095b3043da",
   "outputs": [
    {
     "name": "stdout",
     "output_type": "stream",
     "text": [
      "(34,)\n",
      "(34,)\n"
     ]
    }
   ],
   "execution_count": 130
  },
  {
   "metadata": {
    "ExecuteTime": {
     "end_time": "2024-12-01T05:44:11.693144Z",
     "start_time": "2024-12-01T05:44:11.672784Z"
    }
   },
   "cell_type": "code",
   "source": [
    "# We're going to use the tanh function as our activation function\n",
    "# We will use keras to do this as it does a lot of the work for us\n",
    "\n",
    "# Convert our arrays to tensors\n",
    "k_xw = tf.convert_to_tensor(ml_xw)\n",
    "y = tf.convert_to_tensor(ml_labels)\n",
    "\n",
    "# Run the activation function (Hyperbolic Tanh)\n",
    "y_hat_init = keras.activations.tanh(k_xw)\n",
    "\n",
    "# We're going to use binary cross entropy for our loss function so need to adjust our initial output\n",
    "y_hat = (y_hat_init + 1) / 2.0\n",
    "print(y_hat.shape)\n",
    "print(y.shape)"
   ],
   "id": "b67f598025de21f7",
   "outputs": [
    {
     "name": "stdout",
     "output_type": "stream",
     "text": [
      "(34,)\n",
      "(34,)\n"
     ]
    }
   ],
   "execution_count": 131
  },
  {
   "metadata": {
    "ExecuteTime": {
     "end_time": "2024-12-01T06:27:14.178998Z",
     "start_time": "2024-12-01T06:27:14.164337Z"
    }
   },
   "cell_type": "code",
   "source": [
    "# Binary cross entropy is defined as-(y\\cdot{log}(p_i)+(1-y_i)\\cdot{log}(1-p_i))\n",
    "# We will do the operation manually in np\n",
    "\n",
    "# Convert tensors to arrays\n",
    "y_hat_np = tf.keras.ops.convert_to_numpy(y_hat)  # Convert y_hat to np array\n",
    "y_np = tf.keras.ops.convert_to_numpy(y)  # Convert y to np array\n",
    "\n",
    "# Removing the first value from each to get rid of the NaN value\n",
    "y_hat_np = y_hat_np[1:] \n",
    "y_np = y_np[1:]\n",
    "print(y_hat_np.shape)\n",
    "print(y_np.shape)\n",
    "\n",
    "bce = -np.mean((y_np * np.log(y_hat_np)) + (1 - y_np) * np.log(1 - y_hat_np))\n",
    "print(bce)"
   ],
   "id": "e1c2b276ff253394",
   "outputs": [
    {
     "name": "stdout",
     "output_type": "stream",
     "text": [
      "(33,)\n",
      "(33,)\n",
      "0.7878855509684295\n"
     ]
    }
   ],
   "execution_count": 133
  },
  {
   "metadata": {
    "ExecuteTime": {
     "end_time": "2024-12-01T05:44:11.811705Z",
     "start_time": "2024-12-01T05:44:11.807118Z"
    }
   },
   "cell_type": "code",
   "source": [
    "# Next step will be to run backpropagation on the network to update the weights \n",
    "\n",
    "# The derivative of bce \n"
   ],
   "id": "fc22fc1c19737ba8",
   "outputs": [],
   "execution_count": null
  }
 ],
 "metadata": {
  "kernelspec": {
   "display_name": "Python 3",
   "language": "python",
   "name": "python3"
  },
  "language_info": {
   "codemirror_mode": {
    "name": "ipython",
    "version": 2
   },
   "file_extension": ".py",
   "mimetype": "text/x-python",
   "name": "python",
   "nbconvert_exporter": "python",
   "pygments_lexer": "ipython2",
   "version": "2.7.6"
  }
 },
 "nbformat": 4,
 "nbformat_minor": 5
}
